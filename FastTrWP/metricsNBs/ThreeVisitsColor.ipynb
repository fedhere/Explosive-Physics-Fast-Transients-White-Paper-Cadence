{
 "cells": [
  {
   "cell_type": "code",
   "execution_count": 1,
   "metadata": {},
   "outputs": [],
   "source": [
    "from __future__ import print_function\n",
    "import numpy as np \n",
    "import matplotlib.pyplot as plt\n",
    "%matplotlib inline\n",
    "import numpy as np\n",
    "\n",
    "\n",
    "import lsst.sims.maf.db as db\n",
    "import lsst.sims.maf.metrics as metrics\n",
    "import lsst.sims.maf.slicers as slicers\n",
    "import lsst.sims.maf.metricBundles as metricBundles"
   ]
  },
  {
   "cell_type": "markdown",
   "metadata": {},
   "source": [
    "## Three visits in 2 filters with specified filter pair and time gap\n"
   ]
  },
  {
   "cell_type": "markdown",
   "metadata": {},
   "source": [
    "for Fast transients identification"
   ]
  },
  {
   "cell_type": "code",
   "execution_count": 2,
   "metadata": {},
   "outputs": [],
   "source": [
    "from lsst.sims.maf.metrics import BaseMetric\n"
   ]
  },
  {
   "cell_type": "code",
   "execution_count": 3,
   "metadata": {},
   "outputs": [],
   "source": [
    "class threeVisitsWColorMetric(BaseMetric):\n",
    "        \n",
    "\n",
    "    def __init__(self, filterCol='filter', nightCol='night', \n",
    "                 mjdCol='observationStartMJD', dt1=0.5/24, dt2=1.5/24,\n",
    "                 filters='gi', nVisitsMin=3, **kwargs):\n",
    "        '''\n",
    "        Calculates fields for which there are 3 visits in 2 filters with color within dt1 \n",
    "        and shape at least separated by dt2\n",
    "        \n",
    "        returns 1 if the conditionas are all verified for the data slice, -666 otherwise\n",
    "        default: dt1 30 min dt2 1.5 hours\n",
    "        default filters y+g (cause there are a few)'''\n",
    "        \n",
    "        # Pass the same bins to the plotter.                                                      \n",
    "        self.mjdCol = mjdCol\n",
    "        self.nightCol = nightCol\n",
    "        self.filterCol = filterCol        \n",
    "        self.nVisitsMin = nVisitsMin\n",
    "        self.dt1 = dt1\n",
    "        self.dt2 = dt2\n",
    "        self.filters = (filters[0], filters[1])\n",
    "        super(threeVisitsWColorMetric, \n",
    "              self).__init__(col=[self.mjdCol, \n",
    "                                self.nightCol, \n",
    "                                self.filterCol], \n",
    "                                metricDtype='int', \n",
    "                                units='Fraction', \n",
    "                                **kwargs)\n",
    "\n",
    "    def run(self, dataSlice, slicePoint=None):\n",
    "        mins = [99, 99]\n",
    "        maxs = [-99, -99]\n",
    "        sorting = np.argsort(dataSlice[self.mjdCol])\n",
    "        dataSlice = dataSlice[sorting]\n",
    "        #count the observations within a night for each slice\n",
    "        n, counts = np.unique(dataSlice[self.nightCol], return_counts=True)\n",
    "        #print(dataSlice)\n",
    "        minobs = n[counts >= 3]\n",
    "        #print(n, counts, minobs)\n",
    "        dt1, dt2, filtshape = 100, -1, 'x'\n",
    "\n",
    "        metricval = 0\n",
    "\n",
    "        #iterate over nights with more than 3 observations\n",
    "        for i,night in enumerate(minobs):\n",
    "            #this is a night with >=3 observations\n",
    "            good = dataSlice[self.nightCol] == night\n",
    "            \n",
    "            #check if it has 2 filters at least\n",
    "            n, count = np.unique(dataSlice[self.filterCol][good], return_counts=True)\n",
    "            if len(n) > 1:\n",
    "                #print(dataSlice[self.filterCol][good])\n",
    "                #print(n, count)\n",
    "                #obs with filter 1\n",
    "                f0 = dataSlice[self.filterCol][good] == self.filters[0]\n",
    "                #obs with filter 2\n",
    "                f1 = dataSlice[self.filterCol][good] == self.filters[1]\n",
    "                #print(self.filters[0], f0.sum(), self.filters[1], f1.sum())\n",
    "                \n",
    "                if f0.sum() == 0 or f1.sum() == 0:\n",
    "                    metricval = 0.\n",
    "                    return metricval\n",
    "                \n",
    "                if f0.sum() > 1:\n",
    "                    #max gap with same filter\n",
    "                    dt2 = dataSlice[self.mjdCol][good][f0][-1] - \\\n",
    "                               dataSlice[self.mjdCol][good][f0][0]\n",
    "                    #print(\"dt2\", dt2)\n",
    "                    filtshape = self.filters[0]\n",
    "                if f1.sum() > 1:\n",
    "                    #max gap with same filter\n",
    "                    _tmp = dataSlice[self.mjdCol][good][f1][-1] - \\\n",
    "                               dataSlice[self.mjdCol][good][f1][0]\n",
    "                    #print(\"other dt2\", _tmp)\n",
    "                    if  _tmp > dt2:\n",
    "                            filtshape = self.filters[1]\n",
    "                            dt2 = _tmp\n",
    "                dt1 = np.min([np.abs(t1-t2) for t1 in dataSlice[self.mjdCol][good][f0] \n",
    "                             for t2 in dataSlice[self.mjdCol][good][f1]])\n",
    "\n",
    "                #print (dt1 , \"(\", self.dt1, \")\", dt2, \"(\", self.dt2, \")\", filtshape)\n",
    "               \n",
    "            else:\n",
    "                # no 3 obs night\n",
    "                return metricval\n",
    "        #see if obs verify  gap min and max conditions\n",
    "        if dt1 <= self.dt1 and dt2 >= self.dt2:\n",
    "            metricval = 1.0\n",
    "        return metricval\n",
    "    \n",
    "    def reducep(self, metricval):\n",
    "        result = np.sum(metricval)\n",
    "        return result\n"
   ]
  },
  {
   "cell_type": "code",
   "execution_count": 4,
   "metadata": {},
   "outputs": [
    {
     "name": "stdout",
     "output_type": "stream",
     "text": [
      "Healpix slicer using NSIDE=8, approximate resolution 439.742261 arcminutes\n"
     ]
    },
    {
     "ename": "OSError",
     "evalue": "Sqlite database file \"pontus_2564.db\" not found.",
     "output_type": "error",
     "traceback": [
      "\u001b[0;31m---------------------------------------------------------------------------\u001b[0m",
      "\u001b[0;31mOSError\u001b[0m                                   Traceback (most recent call last)",
      "\u001b[0;32m<ipython-input-4-b8f8e9181ec5>\u001b[0m in \u001b[0;36m<module>\u001b[0;34m()\u001b[0m\n\u001b[1;32m      4\u001b[0m \u001b[0mmyBundle\u001b[0m \u001b[0;34m=\u001b[0m \u001b[0mmetricBundles\u001b[0m\u001b[0;34m.\u001b[0m\u001b[0mMetricBundle\u001b[0m\u001b[0;34m(\u001b[0m\u001b[0mmetric\u001b[0m\u001b[0;34m,\u001b[0m \u001b[0mslicer\u001b[0m\u001b[0;34m,\u001b[0m \u001b[0msqlconstraint\u001b[0m\u001b[0;34m)\u001b[0m\u001b[0;34m\u001b[0m\u001b[0m\n\u001b[1;32m      5\u001b[0m \u001b[0;34m\u001b[0m\u001b[0m\n\u001b[0;32m----> 6\u001b[0;31m \u001b[0mopsdb\u001b[0m \u001b[0;34m=\u001b[0m \u001b[0mdb\u001b[0m\u001b[0;34m.\u001b[0m\u001b[0mOpsimDatabase\u001b[0m\u001b[0;34m(\u001b[0m\u001b[0;34m'pontus_2564.db'\u001b[0m\u001b[0;34m)\u001b[0m\u001b[0;34m\u001b[0m\u001b[0m\n\u001b[0m\u001b[1;32m      7\u001b[0m \u001b[0mmyBundle\u001b[0m\u001b[0;34m.\u001b[0m\u001b[0msetPlotDict\u001b[0m\u001b[0;34m(\u001b[0m\u001b[0;34m{\u001b[0m\u001b[0;34m'colorMin'\u001b[0m\u001b[0;34m:\u001b[0m \u001b[0;36m0.0\u001b[0m\u001b[0;34m,\u001b[0m \u001b[0;34m'colorMax'\u001b[0m\u001b[0;34m:\u001b[0m \u001b[0;36m1.8\u001b[0m\u001b[0;34m}\u001b[0m\u001b[0;34m)\u001b[0m\u001b[0;34m\u001b[0m\u001b[0m\n\u001b[1;32m      8\u001b[0m bgroup = metricBundles.MetricBundleGroup(\n",
      "\u001b[0;32m~/repos/sims_maf/python/lsst/sims/maf/db/opsimDatabase.py\u001b[0m in \u001b[0;36mOpsimDatabase\u001b[0;34m(database, driver, host, port, longstrings, verbose)\u001b[0m\n\u001b[1;32m     30\u001b[0m     \u001b[0ma\u001b[0m \u001b[0msimple\u001b[0m \u001b[0mmethod\u001b[0m \u001b[0mthat\u001b[0m \u001b[0mwill\u001b[0m \u001b[0mattempt\u001b[0m \u001b[0mto\u001b[0m \u001b[0minstantiate\u001b[0m \u001b[0mthe\u001b[0m \u001b[0mcorrect\u001b[0m \u001b[0mtype\u001b[0m \u001b[0mof\u001b[0m \u001b[0mOpsimDatabaseV3\u001b[0m \u001b[0;32mor\u001b[0m \u001b[0mOpsimDatabaseV4\u001b[0m\u001b[0;34m.\u001b[0m\u001b[0;34m\u001b[0m\u001b[0m\n\u001b[1;32m     31\u001b[0m     \"\"\"\n\u001b[0;32m---> 32\u001b[0;31m     \u001b[0mversion\u001b[0m \u001b[0;34m=\u001b[0m \u001b[0mtestOpsimVersion\u001b[0m\u001b[0;34m(\u001b[0m\u001b[0mdatabase\u001b[0m\u001b[0;34m)\u001b[0m\u001b[0;34m\u001b[0m\u001b[0m\n\u001b[0m\u001b[1;32m     33\u001b[0m     \u001b[0;32mif\u001b[0m \u001b[0mversion\u001b[0m \u001b[0;34m==\u001b[0m \u001b[0;34m'V4'\u001b[0m\u001b[0;34m:\u001b[0m\u001b[0;34m\u001b[0m\u001b[0m\n\u001b[1;32m     34\u001b[0m         opsdb = OpsimDatabaseV4(database, driver=driver, host=host, port=port,\n",
      "\u001b[0;32m~/repos/sims_maf/python/lsst/sims/maf/db/opsimDatabase.py\u001b[0m in \u001b[0;36mtestOpsimVersion\u001b[0;34m(database, driver, host, port)\u001b[0m\n\u001b[1;32m     12\u001b[0m \u001b[0;34m\u001b[0m\u001b[0m\n\u001b[1;32m     13\u001b[0m \u001b[0;32mdef\u001b[0m \u001b[0mtestOpsimVersion\u001b[0m\u001b[0;34m(\u001b[0m\u001b[0mdatabase\u001b[0m\u001b[0;34m,\u001b[0m \u001b[0mdriver\u001b[0m\u001b[0;34m=\u001b[0m\u001b[0;34m'sqlite'\u001b[0m\u001b[0;34m,\u001b[0m \u001b[0mhost\u001b[0m\u001b[0;34m=\u001b[0m\u001b[0;32mNone\u001b[0m\u001b[0;34m,\u001b[0m \u001b[0mport\u001b[0m\u001b[0;34m=\u001b[0m\u001b[0;32mNone\u001b[0m\u001b[0;34m)\u001b[0m\u001b[0;34m:\u001b[0m\u001b[0;34m\u001b[0m\u001b[0m\n\u001b[0;32m---> 14\u001b[0;31m     \u001b[0mopsdb\u001b[0m \u001b[0;34m=\u001b[0m \u001b[0mDatabase\u001b[0m\u001b[0;34m(\u001b[0m\u001b[0mdatabase\u001b[0m\u001b[0;34m,\u001b[0m \u001b[0mdriver\u001b[0m\u001b[0;34m=\u001b[0m\u001b[0mdriver\u001b[0m\u001b[0;34m,\u001b[0m \u001b[0mhost\u001b[0m\u001b[0;34m=\u001b[0m\u001b[0mhost\u001b[0m\u001b[0;34m,\u001b[0m \u001b[0mport\u001b[0m\u001b[0;34m=\u001b[0m\u001b[0mport\u001b[0m\u001b[0;34m)\u001b[0m\u001b[0;34m\u001b[0m\u001b[0m\n\u001b[0m\u001b[1;32m     15\u001b[0m     \u001b[0;32mif\u001b[0m \u001b[0;34m'SummaryAllProps'\u001b[0m \u001b[0;32min\u001b[0m \u001b[0mopsdb\u001b[0m\u001b[0;34m.\u001b[0m\u001b[0mtableNames\u001b[0m\u001b[0;34m:\u001b[0m\u001b[0;34m\u001b[0m\u001b[0m\n\u001b[1;32m     16\u001b[0m         \u001b[0mversion\u001b[0m \u001b[0;34m=\u001b[0m \u001b[0;34m\"V4\"\u001b[0m\u001b[0;34m\u001b[0m\u001b[0m\n",
      "\u001b[0;32m~/repos/sims_maf/python/lsst/sims/maf/db/database.py\u001b[0m in \u001b[0;36m__init__\u001b[0;34m(self, database, driver, host, port, defaultTable, longstrings, verbose)\u001b[0m\n\u001b[1;32m     76\u001b[0m         \u001b[0;32mif\u001b[0m \u001b[0mdriver\u001b[0m\u001b[0;34m==\u001b[0m\u001b[0;34m'sqlite'\u001b[0m\u001b[0;34m:\u001b[0m\u001b[0;34m\u001b[0m\u001b[0m\n\u001b[1;32m     77\u001b[0m             \u001b[0;32mif\u001b[0m \u001b[0;32mnot\u001b[0m \u001b[0mos\u001b[0m\u001b[0;34m.\u001b[0m\u001b[0mpath\u001b[0m\u001b[0;34m.\u001b[0m\u001b[0misfile\u001b[0m\u001b[0;34m(\u001b[0m\u001b[0mdatabase\u001b[0m\u001b[0;34m)\u001b[0m\u001b[0;34m:\u001b[0m\u001b[0;34m\u001b[0m\u001b[0m\n\u001b[0;32m---> 78\u001b[0;31m                 \u001b[0;32mraise\u001b[0m \u001b[0mIOError\u001b[0m\u001b[0;34m(\u001b[0m\u001b[0;34m'Sqlite database file \"%s\" not found.'\u001b[0m \u001b[0;34m%\u001b[0m\u001b[0;34m(\u001b[0m\u001b[0mdatabase\u001b[0m\u001b[0;34m)\u001b[0m\u001b[0;34m)\u001b[0m\u001b[0;34m\u001b[0m\u001b[0m\n\u001b[0m\u001b[1;32m     79\u001b[0m \u001b[0;34m\u001b[0m\u001b[0m\n\u001b[1;32m     80\u001b[0m         \u001b[0;31m# Connect to database using DBObject init.\u001b[0m\u001b[0;34m\u001b[0m\u001b[0;34m\u001b[0m\u001b[0m\n",
      "\u001b[0;31mOSError\u001b[0m: Sqlite database file \"pontus_2564.db\" not found."
     ]
    }
   ],
   "source": [
    "metric = threeVisitsWColorMetric(filters='ri')\n",
    "slicer = slicers.HealpixSlicer(nside=8)\n",
    "sqlconstraint = 'night < 365'\n",
    "myBundle = metricBundles.MetricBundle(metric, slicer, sqlconstraint)\n",
    "\n",
    "opsdb = db.OpsimDatabase('pontus_2564.db')\n",
    "myBundle.setPlotDict({'colorMin': 0.0, 'colorMax': 1.8})\n",
    "bgroup = metricBundles.MetricBundleGroup(\n",
    "    {0: myBundle}, opsdb, outDir='newmetric_test', resultsDb=None)\n",
    "bgroup.runAll()\n",
    "bgroup.plotAll(closefigs=False)\n"
   ]
  },
  {
   "cell_type": "code",
   "execution_count": 5,
   "metadata": {},
   "outputs": [
    {
     "name": "stdout",
     "output_type": "stream",
     "text": [
      "--2018-11-28 12:38:38--  http://astro-lsst-01.astro.washington.edu:8081/db_gzip/pontus_2564.db.gz\n",
      "Resolving astro-lsst-01.astro.washington.edu (astro-lsst-01.astro.washington.edu)... 140.142.4.21\n",
      "Connecting to astro-lsst-01.astro.washington.edu (astro-lsst-01.astro.washington.edu)|140.142.4.21|:8081... connected.\n",
      "HTTP request sent, awaiting response... 200 OK\n",
      "Length: 2043591549 (1.9G) [application/gzip]\n",
      "Saving to: 'pontus_2564.db.gz.1'\n",
      "\n",
      "100%[====================================>] 2,043,591,549 2.23MB/s   in 24m 59s\n",
      "\n",
      "2018-11-28 13:03:41 (1.30 MB/s) - 'pontus_2564.db.gz.1' saved [2043591549/2043591549]\n",
      "\n"
     ]
    }
   ],
   "source": [
    "!wget  http://astro-lsst-01.astro.washington.edu:8081/db_gzip/pontus_2564.db.gz\n",
    "        "
   ]
  },
  {
   "cell_type": "code",
   "execution_count": 2,
   "metadata": {},
   "outputs": [
    {
     "name": "stdout",
     "output_type": "stream",
     "text": [
      "^C\n"
     ]
    }
   ],
   "source": [
    "!gunzip pontus_2564.db.gz"
   ]
  },
  {
   "cell_type": "code",
   "execution_count": null,
   "metadata": {},
   "outputs": [],
   "source": []
  }
 ],
 "metadata": {
  "kernelspec": {
   "display_name": "Python 3",
   "language": "python",
   "name": "python3"
  },
  "language_info": {
   "codemirror_mode": {
    "name": "ipython",
    "version": 3
   },
   "file_extension": ".py",
   "mimetype": "text/x-python",
   "name": "python",
   "nbconvert_exporter": "python",
   "pygments_lexer": "ipython3",
   "version": "3.6.2"
  }
 },
 "nbformat": 4,
 "nbformat_minor": 2
}
