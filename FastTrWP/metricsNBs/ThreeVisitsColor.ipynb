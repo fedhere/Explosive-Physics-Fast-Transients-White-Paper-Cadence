{
 "cells": [
  {
   "cell_type": "code",
   "execution_count": 2,
   "metadata": {},
   "outputs": [],
   "source": [
    "from __future__ import print_function\n",
    "import numpy as np \n",
    "import matplotlib.pyplot as plt\n",
    "%matplotlib inline\n",
    "import numpy as np\n",
    "\n",
    "import pandas as pd\n",
    "import lsst.sims.maf.db as db\n",
    "import lsst.sims.maf.metrics as metrics\n",
    "import lsst.sims.maf.slicers as slicers\n",
    "import lsst.sims.maf.metricBundles as metricBundles"
   ]
  },
  {
   "cell_type": "markdown",
   "metadata": {},
   "source": [
    "## Three visits in 2 filters with specified filter pair and time gap\n"
   ]
  },
  {
   "cell_type": "markdown",
   "metadata": {},
   "source": [
    "for Fast transients identification"
   ]
  },
  {
   "cell_type": "code",
   "execution_count": 3,
   "metadata": {},
   "outputs": [],
   "source": [
    "import itertools"
   ]
  },
  {
   "cell_type": "code",
   "execution_count": 4,
   "metadata": {},
   "outputs": [],
   "source": [
    "from lsst.sims.maf.metrics import BaseMetric\n"
   ]
  },
  {
   "cell_type": "code",
   "execution_count": 29,
   "metadata": {},
   "outputs": [],
   "source": [
    "opsimdb = \"baseline2018a\"\n",
    "opsimdb = \"pontus_2564\"\n",
    "opsdb = db.OpsimDatabase(opsimdb + '.db')\n"
   ]
  },
  {
   "cell_type": "code",
   "execution_count": 56,
   "metadata": {},
   "outputs": [
    {
     "ename": "Exception",
     "evalue": "Redefining metric __main__.threeVisitsWColorMetric11! (there are >1 metrics with the same name)",
     "output_type": "error",
     "traceback": [
      "\u001b[0;31m---------------------------------------------------------------------------\u001b[0m",
      "\u001b[0;31mException\u001b[0m                                 Traceback (most recent call last)",
      "\u001b[0;32m<ipython-input-56-cc711c94e3e0>\u001b[0m in \u001b[0;36m<module>\u001b[0;34m()\u001b[0m\n\u001b[0;32m----> 1\u001b[0;31m \u001b[0;32mclass\u001b[0m \u001b[0mthreeVisitsWColorMetric11\u001b[0m\u001b[0;34m(\u001b[0m\u001b[0mBaseMetric\u001b[0m\u001b[0;34m)\u001b[0m\u001b[0;34m:\u001b[0m\u001b[0;34m\u001b[0m\u001b[0m\n\u001b[0m\u001b[1;32m      2\u001b[0m \u001b[0;34m\u001b[0m\u001b[0m\n\u001b[1;32m      3\u001b[0m \u001b[0;34m\u001b[0m\u001b[0m\n\u001b[1;32m      4\u001b[0m     def __init__(self, metricName=\"threevisits metric \", \n\u001b[1;32m      5\u001b[0m                  \u001b[0mfilterCol\u001b[0m\u001b[0;34m=\u001b[0m\u001b[0;34m'filter'\u001b[0m\u001b[0;34m,\u001b[0m \u001b[0mnightCol\u001b[0m\u001b[0;34m=\u001b[0m\u001b[0;34m'night'\u001b[0m\u001b[0;34m,\u001b[0m\u001b[0;34m\u001b[0m\u001b[0m\n",
      "\u001b[0;32m~/repos/sims_maf/python/lsst/sims/maf/metrics/baseMetric.py\u001b[0m in \u001b[0;36m__init__\u001b[0;34m(cls, name, bases, dict)\u001b[0m\n\u001b[1;32m     36\u001b[0m         \u001b[0mmetricname\u001b[0m \u001b[0;34m=\u001b[0m \u001b[0mmodname\u001b[0m \u001b[0;34m+\u001b[0m \u001b[0mname\u001b[0m\u001b[0;34m\u001b[0m\u001b[0m\n\u001b[1;32m     37\u001b[0m         \u001b[0;32mif\u001b[0m \u001b[0mmetricname\u001b[0m \u001b[0;32min\u001b[0m \u001b[0mcls\u001b[0m\u001b[0;34m.\u001b[0m\u001b[0mregistry\u001b[0m\u001b[0;34m:\u001b[0m\u001b[0;34m\u001b[0m\u001b[0m\n\u001b[0;32m---> 38\u001b[0;31m             \u001b[0;32mraise\u001b[0m \u001b[0mException\u001b[0m\u001b[0;34m(\u001b[0m\u001b[0;34m'Redefining metric %s! (there are >1 metrics with the same name)'\u001b[0m \u001b[0;34m%\u001b[0m \u001b[0;34m(\u001b[0m\u001b[0mmetricname\u001b[0m\u001b[0;34m)\u001b[0m\u001b[0;34m)\u001b[0m\u001b[0;34m\u001b[0m\u001b[0m\n\u001b[0m\u001b[1;32m     39\u001b[0m         \u001b[0;32mif\u001b[0m \u001b[0mmetricname\u001b[0m \u001b[0;32mnot\u001b[0m \u001b[0;32min\u001b[0m \u001b[0;34m[\u001b[0m\u001b[0;34m'BaseMetric'\u001b[0m\u001b[0;34m,\u001b[0m \u001b[0;34m'SimpleScalarMetric'\u001b[0m\u001b[0;34m]\u001b[0m\u001b[0;34m:\u001b[0m\u001b[0;34m\u001b[0m\u001b[0m\n\u001b[1;32m     40\u001b[0m             \u001b[0mcls\u001b[0m\u001b[0;34m.\u001b[0m\u001b[0mregistry\u001b[0m\u001b[0;34m[\u001b[0m\u001b[0mmetricname\u001b[0m\u001b[0;34m]\u001b[0m \u001b[0;34m=\u001b[0m \u001b[0mcls\u001b[0m\u001b[0;34m\u001b[0m\u001b[0m\n",
      "\u001b[0;31mException\u001b[0m: Redefining metric __main__.threeVisitsWColorMetric11! (there are >1 metrics with the same name)"
     ]
    }
   ],
   "source": [
    "class threeVisitsWColorMetric11(BaseMetric):\n",
    "        \n",
    "\n",
    "    def __init__(self, metricName=\"threevisits metric \", \n",
    "                 filterCol='filter', nightCol='night', \n",
    "                 mjdCol='observationStartMJD', dt1=0.5/24, dt2=1.5/24,\n",
    "                 filters='gi', nVisitsMin=3, **kwargs):\n",
    "        '''\n",
    "        Calculates fields for which there are 3 visits in 2 filters with color within dt1 \n",
    "        and shape at least separated by dt2\n",
    "        \n",
    "        returns 1 if the conditionas are all verified for the data slice, -666 otherwise\n",
    "        default: dt1 30 min dt2 1.5 hours\n",
    "        default filters y+g (cause there are a few)'''\n",
    "        \n",
    "        # Pass the same bins to the plotter.                                                      \n",
    "        self.metricName = metricName\n",
    "        self.mjdCol = mjdCol\n",
    "        self.nightCol = nightCol\n",
    "        self.filterCol = filterCol        \n",
    "        self.nVisitsMin = nVisitsMin\n",
    "        self.dt1 = dt1\n",
    "        self.dt2 = dt2\n",
    "        self.filters = (filters[0], filters[1])\n",
    "        super(threeVisitsWColorMetric11, \n",
    "              self).__init__(col=[self.mjdCol, \n",
    "                                self.nightCol, \n",
    "                                self.filterCol], \n",
    "                                metricDtype='int', \n",
    "                                units='Fraction', \n",
    "                                **kwargs)\n",
    "\n",
    "    def run(self, dataSlice, slicePoint=None):\n",
    "        mins = [99, 99]\n",
    "        maxs = [-99, -99]\n",
    "        sorting = np.argsort(dataSlice[self.mjdCol])\n",
    "        dataSlice = dataSlice[sorting]\n",
    "        #count the observations within a night for each slice\n",
    "        n, counts = np.unique(dataSlice[self.nightCol], return_counts=True)\n",
    "        #print(dataSlice)\n",
    "        allslices = len(n)\n",
    "        minobs = n[counts >= 3]\n",
    "        #print(n, counts, minobs)\n",
    "        dt1, dt2, filtshape = 100, -1, 'x'\n",
    "\n",
    "        metricval = 0\n",
    "        f = open(self.metricName+\".csv\", \"a\")\n",
    "        #iterate over nights with more than 3 observations\n",
    "        for i,night in enumerate(minobs):\n",
    "            #this is a night with >=3 observations\n",
    "            good = dataSlice[self.nightCol] == night\n",
    "            \n",
    "            #check if it has 2 filters at least\n",
    "            n, count = np.unique(dataSlice[self.filterCol][good], \n",
    "                                 return_counts=True)\n",
    "            if len(n) > 1:\n",
    "                #print(dataSlice[self.filterCol][good])\n",
    "                #print(n, count)\n",
    "                #obs with filter 1\n",
    "                #print (n, count)\n",
    "                f0 = dataSlice[self.filterCol][good] == self.filters[0]\n",
    "                #obs with filter 2\n",
    "                f1 = dataSlice[self.filterCol][good] == self.filters[1]\n",
    "                \n",
    "                if f0.sum() == 0 or f1.sum() == 0:\n",
    "                    metricval = 0.\n",
    "                    return metricval\n",
    "                \n",
    "                if f0.sum() > 1:\n",
    "                    #max gap with same filter\n",
    "                    dt2 = dataSlice[self.mjdCol][good][f0][-1] - \\\n",
    "                               dataSlice[self.mjdCol][good][f0][0]\n",
    "                    #print(\"dt2\", dt2)\n",
    "                    filtshape = self.filters[0]\n",
    "                if f1.sum() > 1:\n",
    "                    #max gap with same filter\n",
    "                    _tmp = dataSlice[self.mjdCol][good][f1][-1] - \\\n",
    "                               dataSlice[self.mjdCol][good][f1][0]\n",
    "                    #print(\"other dt2\", _tmp)\n",
    "                    if  _tmp > dt2:\n",
    "                            filtshape = self.filters[1]\n",
    "                            dt2 = _tmp\n",
    "                dt1 = np.min([np.abs(t1-t2) for t1 in dataSlice[self.mjdCol][good][f0] \n",
    "                             for t2 in dataSlice[self.mjdCol][good][f1]])\n",
    "\n",
    "                f.write(\"%s,%d,%s,%d,%.3f,%.3f\\n\"%(\n",
    "                    self.filters[0], f0.sum(), \n",
    "                      self.filters[1], f1.sum(), \n",
    "                         dt1, dt2))\n",
    "                #print (dt1 , \"(\", self.dt1, \")\", dt2, \"(\", self.dt2, \")\", filtshape)\n",
    "               \n",
    "            \n",
    "                #see if obs verify  gap min and max conditions\n",
    "                if dt1 <= self.dt1 and dt2 >= self.dt2:\n",
    "                    metricval += 1.0\n",
    "        f.close()\n",
    "        #print(metricval)\n",
    "        return metricval #/ allslices\n",
    "    \n",
    "    def reducep(self, metricval):\n",
    "        result = np.sum(metricval)\n",
    "        return result\n"
   ]
  },
  {
   "cell_type": "code",
   "execution_count": null,
   "metadata": {},
   "outputs": [
    {
     "name": "stdout",
     "output_type": "stream",
     "text": [
      "Healpix slicer using NSIDE=8, approximate resolution 439.742261 arcminutes\n",
      "Querying database SummaryAllProps with constraint night < 365 for columns ['night', 'observationStartMJD', 'fieldRA', 'fieldDec', 'filter']\n",
      "Found 227468 visits\n",
      "Running:  [0, 1, 2, 3, 4, 5]\n",
      "Completed metric generation.\n",
      "Running reduce methods.\n",
      "Running summary statistics.\n",
      "Completed.\n",
      "Plotting figures with \"night < 365\" constraint now.\n"
     ]
    },
    {
     "name": "stderr",
     "output_type": "stream",
     "text": [
      "/home/docmaf/repos/sims_maf/python/lsst/sims/maf/plots/spatialPlotters.py:303: UserWarning: Histogram range was single-valued; expanding default range.\n",
      "  warnings.warn('Histogram range was single-valued; expanding default range.')\n",
      "/home/docmaf/repos/sims_maf/python/lsst/sims/maf/utils/mafUtils.py:58: RuntimeWarning: invalid value encountered in double_scalars\n",
      "  nbins = (binmax - binmin) / binwidth\n",
      "/home/docmaf/repos/sims_maf/python/lsst/sims/maf/utils/mafUtils.py:66: UserWarning: Optimal bin calculation calculated NaN: returning 200\n",
      "  warnings.warn('Optimal bin calculation calculated NaN: returning %i' %(nbinMax))\n",
      "/home/docmaf/stack/stack/miniconda3-4.5.4-10a4fa6/Linux64/healpy/1.10.3.lsst1+6/lib/python/healpy-1.10.3-py3.6-linux-x86_64.egg/healpy/rotator.py:475: RuntimeWarning: invalid value encountered in double_scalars\n",
      "  ang[0, :] = np.arccos(vz / r)\n"
     ]
    },
    {
     "name": "stdout",
     "output_type": "stream",
     "text": [
      "monopole: 0  dipole: lon: 0, lat: nan, amp: 0\n"
     ]
    },
    {
     "name": "stderr",
     "output_type": "stream",
     "text": [
      "/home/docmaf/repos/sims_maf/python/lsst/sims/maf/plots/spatialPlotters.py:303: UserWarning: Histogram range was single-valued; expanding default range.\n",
      "  warnings.warn('Histogram range was single-valued; expanding default range.')\n",
      "/home/docmaf/repos/sims_maf/python/lsst/sims/maf/utils/mafUtils.py:58: RuntimeWarning: invalid value encountered in double_scalars\n",
      "  nbins = (binmax - binmin) / binwidth\n",
      "/home/docmaf/repos/sims_maf/python/lsst/sims/maf/utils/mafUtils.py:66: UserWarning: Optimal bin calculation calculated NaN: returning 200\n",
      "  warnings.warn('Optimal bin calculation calculated NaN: returning %i' %(nbinMax))\n",
      "/home/docmaf/stack/stack/miniconda3-4.5.4-10a4fa6/Linux64/healpy/1.10.3.lsst1+6/lib/python/healpy-1.10.3-py3.6-linux-x86_64.egg/healpy/rotator.py:475: RuntimeWarning: invalid value encountered in double_scalars\n",
      "  ang[0, :] = np.arccos(vz / r)\n"
     ]
    },
    {
     "name": "stdout",
     "output_type": "stream",
     "text": [
      "monopole: 0  dipole: lon: 0, lat: nan, amp: 0\n"
     ]
    },
    {
     "name": "stderr",
     "output_type": "stream",
     "text": [
      "/home/docmaf/repos/sims_maf/python/lsst/sims/maf/plots/spatialPlotters.py:303: UserWarning: Histogram range was single-valued; expanding default range.\n",
      "  warnings.warn('Histogram range was single-valued; expanding default range.')\n",
      "/home/docmaf/repos/sims_maf/python/lsst/sims/maf/utils/mafUtils.py:58: RuntimeWarning: invalid value encountered in double_scalars\n",
      "  nbins = (binmax - binmin) / binwidth\n",
      "/home/docmaf/repos/sims_maf/python/lsst/sims/maf/utils/mafUtils.py:66: UserWarning: Optimal bin calculation calculated NaN: returning 200\n",
      "  warnings.warn('Optimal bin calculation calculated NaN: returning %i' %(nbinMax))\n",
      "/home/docmaf/stack/stack/miniconda3-4.5.4-10a4fa6/Linux64/healpy/1.10.3.lsst1+6/lib/python/healpy-1.10.3-py3.6-linux-x86_64.egg/healpy/rotator.py:475: RuntimeWarning: invalid value encountered in double_scalars\n",
      "  ang[0, :] = np.arccos(vz / r)\n"
     ]
    },
    {
     "name": "stdout",
     "output_type": "stream",
     "text": [
      "monopole: 0  dipole: lon: 0, lat: nan, amp: 0\n"
     ]
    },
    {
     "name": "stderr",
     "output_type": "stream",
     "text": [
      "/home/docmaf/repos/sims_maf/python/lsst/sims/maf/plots/spatialPlotters.py:303: UserWarning: Histogram range was single-valued; expanding default range.\n",
      "  warnings.warn('Histogram range was single-valued; expanding default range.')\n",
      "/home/docmaf/repos/sims_maf/python/lsst/sims/maf/utils/mafUtils.py:58: RuntimeWarning: invalid value encountered in double_scalars\n",
      "  nbins = (binmax - binmin) / binwidth\n",
      "/home/docmaf/repos/sims_maf/python/lsst/sims/maf/utils/mafUtils.py:66: UserWarning: Optimal bin calculation calculated NaN: returning 200\n",
      "  warnings.warn('Optimal bin calculation calculated NaN: returning %i' %(nbinMax))\n",
      "/home/docmaf/stack/stack/miniconda3-4.5.4-10a4fa6/Linux64/healpy/1.10.3.lsst1+6/lib/python/healpy-1.10.3-py3.6-linux-x86_64.egg/healpy/rotator.py:475: RuntimeWarning: invalid value encountered in double_scalars\n",
      "  ang[0, :] = np.arccos(vz / r)\n"
     ]
    },
    {
     "name": "stdout",
     "output_type": "stream",
     "text": [
      "monopole: 0  dipole: lon: 0, lat: nan, amp: 0\n"
     ]
    }
   ],
   "source": [
    "metricList = []\n",
    "for i in list(itertools.combinations(['g','r','i','z'], 2)):\n",
    "    pair = ''.join(i)\n",
    "    metricList.append(threeVisitsWColorMetric11(filters=pair, \n",
    "                                            metricName=\"3visits\" + pair))\n",
    "    \n",
    "slicer = slicers.HealpixSlicer(nside=8)\n",
    "sqlconstraint = 'night < 365'\n",
    "bDict={}\n",
    "for i,metric in enumerate(metricList):\n",
    "    bDict[i] = metricBundles.MetricBundle(\n",
    "        metric, slicer, sqlconstraint)\n",
    "    bDict[i].setPlotDict({'colorMin': 0.0, 'colorMax': 1.0})\n",
    "    \n",
    "bgroup = metricBundles.MetricBundleGroup(\n",
    "    bDict, opsdb, outDir='visitsFastMetric', resultsDb=None)\n",
    "\n",
    "bgroup.runAll()\n",
    "bgroup.plotAll(closefigs=False)"
   ]
  },
  {
   "cell_type": "code",
   "execution_count": 28,
   "metadata": {},
   "outputs": [
    {
     "data": {
      "image/png": "[encoded data removed]",
      "text/plain": [
       "<matplotlib.figure.Figure at 0x7fb4b0e8af98>"
      ]
     },
     "metadata": {},
     "output_type": "display_data"
    }
   ],
   "source": [
    "colors = {'gr':'SteelBlue', 'gi':'g', 'ri':'orange', \n",
    "          'rz':'cyan', 'iz':'IndianRed', 'gz':'k'}\n",
    "import pylab as pl\n",
    "ax = pl.figure().add_subplot(111)\n",
    "for i in list(itertools.combinations(['g','r','i','z'], 2)):\n",
    "    tmp = pd.read_csv(\"3visits\" + ''.join(i) + \".csv\", \n",
    "            header=None)\n",
    "    tmp[4] = tmp[4]*24\n",
    "    tmp[5] = tmp[5]*24\n",
    "    tmp[\"c1\"] = tmp[0].map({'g':1, 'r':2, 'i':3,'z':4})\n",
    "    tmp[\"c2\"] = tmp[2].map({'g':1, 'r':2, 'i':3,'z':4})\n",
    "    ax = tmp.plot.scatter(x=4, y=5, alpha=0.2, color=colors[''.join(i)], \n",
    "                          ax=ax, label=''.join(i))\n",
    "    ax.set_xlabel(r\"$\\Delta t_1$\", fontsize=15)\n",
    "    ax.set_ylabel(r\"$\\Delta t_2$\", fontsize=15)\n",
    "    ylim = (-2,5)\n",
    "    \n",
    "    ax.set_ylim(ylim)\n",
    "    ax.plot([0.5,0.5], ylim, 'k')\n",
    "xlim = ax.get_xlim()\n",
    "ax.plot(xlim, [1.5,1.5], 'k')\n",
    "ax.set_title(''.join(i))\n",
    "pl.fill_between(xlim, [ylim[0], ylim[0]], [1.5,1.5], color='k', alpha=0.2)\n",
    "pl.fill_between([0.5, xlim[1]], [ylim[1], ylim[1]], [1.5,1.5], color='k', alpha=0.2)\n",
    "pl.savefig(\"3visits\" + \"_\" + opsimdb + \".png\")"
   ]
  },
  {
   "cell_type": "code",
   "execution_count": 14,
   "metadata": {},
   "outputs": [
    {
     "name": "stdout",
     "output_type": "stream",
     "text": [
      "3visits gi.csv\n",
      "3visitsgi.csv\n",
      "3visitsgi_.png\n",
      "3visitsgi_baseline2018a.png\n",
      "3visitsgr.csv\n",
      "3visitsgr_.png\n",
      "3visitsgr_baseline2018a.png\n",
      "3visitsgz.csv\n",
      "3visitsgz_.png\n",
      "3visitsgz_baseline2018a.png\n",
      "3visitsiz.csv\n",
      "3visitsiz_.png\n",
      "3visitsiz_baseline2018a.png\n",
      "3visitsri.csv\n",
      "3visitsri_.png\n",
      "3visitsri_baseline2018a.png\n",
      "3visitsrz.csv\n",
      "3visitsrz_.png\n",
      "3visitsrz_baseline2018a.png\n",
      "ChipNames.ipynb\n",
      "Compare Runs.ipynb\n",
      "Complex Metrics.ipynb\n",
      "Database Schema Changes.ipynb\n",
      "DeepDrilling.ipynb\n",
      "Dithers.ipynb\n",
      "FTtransient_metric.ipynb\n",
      "FastTransientsAlertMetric.ipynb\n",
      "Getting_MAF_Help.ipynb\n",
      "HybridCameraGeomStudies.ipynb\n",
      "Index.ipynb\n",
      "Introduction Notebook.ipynb\n",
      "LightCurve\n",
      "MAFCameraGeom.ipynb\n",
      "PeriodicWithCrowd\n",
      "Plotting Examples.ipynb\n",
      "PullLightCurves.ipynb\n",
      "README.md\n",
      "RothDitherStacker Example.ipynb\n",
      "RunComparison.ipynb\n",
      "SDSSSlicer.ipynb\n",
      "SequenceViz.ipynb\n",
      "Slicers.ipynb\n",
      "Spatial_Coordinates.ipynb\n",
      "Stackers.ipynb\n",
      "TestNotebook.ipynb\n",
      "ThreeVisitsColor.ipynb\n",
      "TransientMetric.ipynb\n",
      "Transients\n",
      "Untitled.ipynb\n",
      "Untitled2.ipynb\n",
      "VectorMetrics.ipynb\n",
      "Writing a New Metric.ipynb\n",
      "baseline2018a.db\n",
      "cfht_pointing.csv\n",
      "dt1dt2.csv\n",
      "enigma_1189_scheduler_results.db\n",
      "enigma_1189_science_results.db\n",
      "ewok_1004_scheduler_results.db\n",
      "ewok_1004_science_results.db\n",
      "images\n",
      "newmetric_test\n",
      "opsim_Mean_fiveSigmaDepth_i_HEAL.npz\n",
      "opsim_Mean_fiveSigmaDepth_i_HEAL_SkyMap.pdf\n",
      "output_directory\n",
      "pontus_2564.db\n",
      "potus_3visitsgi.cscv\n",
      "resultsDb\n",
      "resultsDb_sqlite.db\n",
      "temp\n",
      "thumb.opsim_Mean_fiveSigmaDepth_i_HEAL_SkyMap.png\n",
      "tmp.csv\n",
      "transient_metric.ipynb\n",
      "untitled.txt\n",
      "untitled1.ipynb\n",
      "visitsFastMetric\n"
     ]
    }
   ],
   "source": [
    "!ls"
   ]
  },
  {
   "cell_type": "code",
   "execution_count": 35,
   "metadata": {},
   "outputs": [
    {
     "data": {
      "text/plain": [
       "\u001b[0;31mSignature:\u001b[0m \u001b[0mtmp\u001b[0m\u001b[0;34m.\u001b[0m\u001b[0mplot\u001b[0m\u001b[0;34m.\u001b[0m\u001b[0mscatter\u001b[0m\u001b[0;34m(\u001b[0m\u001b[0mx\u001b[0m\u001b[0;34m,\u001b[0m \u001b[0my\u001b[0m\u001b[0;34m,\u001b[0m \u001b[0ms\u001b[0m\u001b[0;34m=\u001b[0m\u001b[0;32mNone\u001b[0m\u001b[0;34m,\u001b[0m \u001b[0mc\u001b[0m\u001b[0;34m=\u001b[0m\u001b[0;32mNone\u001b[0m\u001b[0;34m,\u001b[0m \u001b[0;34m**\u001b[0m\u001b[0mkwds\u001b[0m\u001b[0;34m)\u001b[0m\u001b[0;34m\u001b[0m\u001b[0m\n",
       "\u001b[0;31mDocstring:\u001b[0m\n",
       "Scatter plot\n",
       "\n",
       ".. versionadded:: 0.17.0\n",
       "\n",
       "Parameters\n",
       "----------\n",
       "x, y : label or position, optional\n",
       "    Coordinates for each point.\n",
       "s : scalar or array_like, optional\n",
       "    Size of each point.\n",
       "c : label or position, optional\n",
       "    Color of each point.\n",
       "**kwds : optional\n",
       "    Keyword arguments to pass on to :py:meth:`pandas.DataFrame.plot`.\n",
       "\n",
       "Returns\n",
       "-------\n",
       "axes : matplotlib.AxesSubplot or np.array of them\n",
       "\u001b[0;31mFile:\u001b[0m      ~/stack/python/miniconda3-4.5.4/envs/lsst-scipipe-10a4fa6/lib/python3.6/site-packages/pandas/plotting/_core.py\n",
       "\u001b[0;31mType:\u001b[0m      method\n"
      ]
     },
     "metadata": {},
     "output_type": "display_data"
    }
   ],
   "source": [
    "tmp.plot.scatter?"
   ]
  },
  {
   "cell_type": "code",
   "execution_count": 60,
   "metadata": {},
   "outputs": [],
   "source": [
    "!mv 3visitsgi.csv potus_3visitsgi.cscv\n"
   ]
  },
  {
   "cell_type": "code",
   "execution_count": null,
   "metadata": {},
   "outputs": [],
   "source": []
  }
 ],
 "metadata": {
  "kernelspec": {
   "display_name": "Python 3",
   "language": "python",
   "name": "python3"
  },
  "language_info": {
   "codemirror_mode": {
    "name": "ipython",
    "version": 3
   },
   "file_extension": ".py",
   "mimetype": "text/x-python",
   "name": "python",
   "nbconvert_exporter": "python",
   "pygments_lexer": "ipython3",
   "version": "3.6.2"
  }
 },
 "nbformat": 4,
 "nbformat_minor": 2
}
