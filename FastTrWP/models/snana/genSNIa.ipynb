{
 "cells": [
  {
   "cell_type": "code",
   "execution_count": 271,
   "metadata": {
    "ExecuteTime": {
     "end_time": "2018-11-25T06:28:52.027445Z",
     "start_time": "2018-11-25T06:28:52.023843Z"
    },
    "run_control": {
     "frozen": false,
     "read_only": false
    }
   },
   "outputs": [],
   "source": [
    "import sncosmo"
   ]
  },
  {
   "cell_type": "code",
   "execution_count": 289,
   "metadata": {
    "ExecuteTime": {
     "end_time": "2018-11-25T06:31:20.849909Z",
     "start_time": "2018-11-25T06:31:20.839056Z"
    }
   },
   "outputs": [
    {
     "name": "stdout",
     "output_type": "stream",
     "text": [
      "Populating the interactive namespace from numpy and matplotlib\n"
     ]
    }
   ],
   "source": [
    "import numpy as np\n",
    "import pandas as pd\n",
    "import sncosmo\n",
    "import pylab as pl\n",
    "from astropy.table import Table\n",
    "%pylab inline"
   ]
  },
  {
   "cell_type": "code",
   "execution_count": 290,
   "metadata": {
    "ExecuteTime": {
     "end_time": "2018-11-25T06:31:21.070354Z",
     "start_time": "2018-11-25T06:31:21.063016Z"
    }
   },
   "outputs": [],
   "source": [
    "t = np.arange(0,100,0.1)\n",
    "obsi = Table({'time': t,\n",
    "             'band': ['desi']*len(t),\n",
    "             'gain': [1.]*len(t),\n",
    "             'skynoise': [180.]*len(t),\n",
    "             'zp': [50.]*len(t),\n",
    "             'zpsys':['ab']*len(t)})"
   ]
  },
  {
   "cell_type": "code",
   "execution_count": 291,
   "metadata": {
    "ExecuteTime": {
     "end_time": "2018-11-25T06:31:21.252732Z",
     "start_time": "2018-11-25T06:31:21.242303Z"
    }
   },
   "outputs": [],
   "source": [
    "obsr = Table({'time': t,\n",
    "             'band': ['desr']*len(t),\n",
    "             'gain': [1.]*len(t),\n",
    "             'skynoise': [180.]*len(t),\n",
    "             'zp': [50.]*len(t),\n",
    "             'zpsys':['ab']*len(t)})"
   ]
  },
  {
   "cell_type": "code",
   "execution_count": 292,
   "metadata": {
    "ExecuteTime": {
     "end_time": "2018-11-25T06:31:21.451098Z",
     "start_time": "2018-11-25T06:31:21.439066Z"
    }
   },
   "outputs": [
    {
     "name": "stdout",
     "output_type": "stream",
     "text": [
      "        time        band gain skynoise  zp  zpsys\n",
      "------------------- ---- ---- -------- ---- -----\n",
      "                0.0 desg  1.0    180.0 50.0    ab\n",
      "                0.1 desg  1.0    180.0 50.0    ab\n",
      "                0.2 desg  1.0    180.0 50.0    ab\n",
      "0.30000000000000004 desg  1.0    180.0 50.0    ab\n",
      "                0.4 desg  1.0    180.0 50.0    ab\n",
      "                0.5 desg  1.0    180.0 50.0    ab\n",
      " 0.6000000000000001 desg  1.0    180.0 50.0    ab\n",
      " 0.7000000000000001 desg  1.0    180.0 50.0    ab\n",
      "                0.8 desg  1.0    180.0 50.0    ab\n",
      "                0.9 desg  1.0    180.0 50.0    ab\n",
      "                ...  ...  ...      ...  ...   ...\n",
      "               98.9 desg  1.0    180.0 50.0    ab\n",
      "               99.0 desg  1.0    180.0 50.0    ab\n",
      "  99.10000000000001 desg  1.0    180.0 50.0    ab\n",
      "               99.2 desg  1.0    180.0 50.0    ab\n",
      "  99.30000000000001 desg  1.0    180.0 50.0    ab\n",
      "               99.4 desg  1.0    180.0 50.0    ab\n",
      "               99.5 desg  1.0    180.0 50.0    ab\n",
      "  99.60000000000001 desg  1.0    180.0 50.0    ab\n",
      "               99.7 desg  1.0    180.0 50.0    ab\n",
      "  99.80000000000001 desg  1.0    180.0 50.0    ab\n",
      "               99.9 desg  1.0    180.0 50.0    ab\n",
      "Length = 1000 rows\n"
     ]
    }
   ],
   "source": [
    "obsg = Table({'time': t,\n",
    "             'band': ['desg']*len(t),\n",
    "             'gain': [1.]*len(t),\n",
    "             'skynoise': [180.]*len(t),\n",
    "             'zp': [50.]*len(t),\n",
    "             'zpsys':['ab']*len(t)})\n",
    "print (obsg)"
   ]
  },
  {
   "cell_type": "code",
   "execution_count": 293,
   "metadata": {
    "ExecuteTime": {
     "end_time": "2018-11-25T06:31:21.669910Z",
     "start_time": "2018-11-25T06:31:21.664585Z"
    }
   },
   "outputs": [],
   "source": [
    "model = sncosmo.Model(source='salt2')\n",
    "params = {'z': 0.4, \n",
    "          't0': 30.0, 'x0':1.e-5, 'x1': 0.1, 'c': 0.}"
   ]
  },
  {
   "cell_type": "code",
   "execution_count": 294,
   "metadata": {
    "ExecuteTime": {
     "end_time": "2018-11-25T06:31:22.484538Z",
     "start_time": "2018-11-25T06:31:21.865516Z"
    }
   },
   "outputs": [],
   "source": [
    "lcsg = sncosmo.realize_lcs(obsg, model, [params])\n",
    "lcsr = sncosmo.realize_lcs(obsr, model, [params])\n",
    "lcsi = sncosmo.realize_lcs(obsi, model, [params])\n",
    "\n",
    "lcsg = lcsg[0].to_pandas()\n",
    "lcsg['flux'] = lcsg.flux.apply(lambda x: max(x, \n",
    "                            min(np.abs(lcsg.flux.values))))\n",
    "lcsr = lcsr[0].to_pandas()\n",
    "lcsr['flux'] = lcsr.flux.apply(lambda x: max(x, \n",
    "                            min(np.abs(lcsr.flux.values))))\n",
    "lcsi = lcsi[0].to_pandas()\n",
    "lcsi['flux'] = lcsi.flux.apply(lambda x: max(x, \n",
    "                            min(np.abs(lcsi.flux.values))))"
   ]
  },
  {
   "cell_type": "code",
   "execution_count": 295,
   "metadata": {
    "ExecuteTime": {
     "end_time": "2018-11-25T06:31:22.528238Z",
     "start_time": "2018-11-25T06:31:22.488303Z"
    }
   },
   "outputs": [
    {
     "data": {
      "text/plain": [
       "(     time  band          flux        fluxerr    zp zpsys\n",
       " 261  26.1  desg  4.537068e+10  213003.943611  50.0    ab,\n",
       "      time  band          flux        fluxerr    zp zpsys\n",
       " 293  29.3  desr  8.449381e+10  290677.932489  50.0    ab,\n",
       "      time  band          flux        fluxerr    zp zpsys\n",
       " 315  31.5  desi  8.247490e+10  287183.721986  50.0    ab)"
      ]
     },
     "execution_count": 295,
     "metadata": {},
     "output_type": "execute_result"
    }
   ],
   "source": [
    "lcsg[lcsg.flux == lcsg.flux.max()], \\\n",
    "lcsr[lcsr.flux == lcsr.flux.max()], \\\n",
    "lcsi[lcsi.flux == lcsi.flux.max()], "
   ]
  },
  {
   "cell_type": "code",
   "execution_count": 296,
   "metadata": {
    "ExecuteTime": {
     "end_time": "2018-11-25T06:31:23.002334Z",
     "start_time": "2018-11-25T06:31:22.534760Z"
    }
   },
   "outputs": [
    {
     "data": {
      "text/plain": [
       "<matplotlib.axes._subplots.AxesSubplot at 0x1819a8a2e8>"
      ]
     },
     "execution_count": 296,
     "metadata": {},
     "output_type": "execute_result"
    },
    {
     "data": {
      "image/png": "[encoded data removed]",
      "text/plain": [
       "<Figure size 432x288 with 1 Axes>"
      ]
     },
     "metadata": {},
     "output_type": "display_data"
    }
   ],
   "source": [
    "ax = lcsi.plot(x=\"time\", y=\"flux\", label='i')\n",
    "lcsr.plot(x=\"time\", y=\"flux\", ax=ax, label='r')\n",
    "lcsg.plot(x=\"time\", y=\"flux\", ax=ax, label='g')"
   ]
  },
  {
   "cell_type": "code",
   "execution_count": 297,
   "metadata": {
    "ExecuteTime": {
     "end_time": "2018-11-25T06:31:23.014483Z",
     "start_time": "2018-11-25T06:31:23.005082Z"
    }
   },
   "outputs": [],
   "source": [
    "r = -2.5 * np.log10(lcsr['flux'].values)\n",
    "g = -2.5 * np.log10(lcsg['flux'].values)\n",
    "i = -2.5 * np.log10(lcsi['flux'].values)\n",
    "t = lcsr['time'].values"
   ]
  },
  {
   "cell_type": "code",
   "execution_count": 298,
   "metadata": {
    "ExecuteTime": {
     "end_time": "2018-11-25T06:31:23.595934Z",
     "start_time": "2018-11-25T06:31:23.305525Z"
    }
   },
   "outputs": [
    {
     "data": {
      "text/plain": [
       "[<matplotlib.lines.Line2D at 0x1819c1cac8>]"
      ]
     },
     "execution_count": 298,
     "metadata": {},
     "output_type": "execute_result"
    },
    {
     "data": {
      "image/png": "[encoded data removed]",
      "text/plain": [
       "<Figure size 432x288 with 1 Axes>"
      ]
     },
     "metadata": {},
     "output_type": "display_data"
    }
   ],
   "source": [
    "pl.plot(t, g, label='g')"
   ]
  },
  {
   "cell_type": "code",
   "execution_count": 299,
   "metadata": {
    "ExecuteTime": {
     "end_time": "2018-11-25T06:31:24.062848Z",
     "start_time": "2018-11-25T06:31:23.741188Z"
    }
   },
   "outputs": [
    {
     "data": {
      "text/plain": [
       "(0, 10)"
      ]
     },
     "execution_count": 299,
     "metadata": {},
     "output_type": "execute_result"
    },
    {
     "data": {
      "image/png": "[encoded data removed]",
      "text/plain": [
       "<Figure size 432x288 with 1 Axes>"
      ]
     },
     "metadata": {},
     "output_type": "display_data"
    }
   ],
   "source": [
    "pl.plot(lcsr['time'].values, \n",
    "        2.5 * np.log10(lcsg['flux'].values))\n",
    "pl.plot(lcsr['time'].values, \n",
    "        2.5 * np.log10(lcsr['flux'].values))\n",
    "pl.plot(lcsr['time'].values, \n",
    "        2.5 * np.log10(lcsi['flux'].values))\n",
    "pl.xlim(0,10)"
   ]
  },
  {
   "cell_type": "code",
   "execution_count": 300,
   "metadata": {
    "ExecuteTime": {
     "end_time": "2018-11-25T06:31:24.645415Z",
     "start_time": "2018-11-25T06:31:24.638391Z"
    }
   },
   "outputs": [],
   "source": [
    "lcsr = lcsr.iloc[22:]\n",
    "lcsi = lcsi.iloc[22:]\n",
    "lcsg = lcsg.iloc[80:]"
   ]
  },
  {
   "cell_type": "code",
   "execution_count": 301,
   "metadata": {
    "ExecuteTime": {
     "end_time": "2018-11-25T06:31:25.974138Z",
     "start_time": "2018-11-25T06:31:25.563915Z"
    }
   },
   "outputs": [],
   "source": [
    "lcsr['mag'] = -2.5 * np.log10(lcsr.flux)\n",
    "lcsr['mag'] -= lcsr['mag'].min()\n",
    "lcsr['time'] -= lcsg[lcsg.flux == lcsg.flux.max()]['time'].values\n",
    "\n",
    "lcsi['mag'] = -2.5 * np.log10(lcsi.flux)\n",
    "lcsi['mag'] -= lcsi['mag'].min()\n",
    "lcsi['time'] -= lcsg[lcsg.flux == lcsg.flux.max()]['time'].values\n",
    "\n",
    "lcsg['mag'] = -2.5 * np.log10(lcsg.flux)\n",
    "lcsg['mag'] -= lcsg['mag'].min()\n",
    "lcsg['time'] -= lcsg[lcsg.flux == lcsg.flux.max()]['time'].values\n",
    "\n"
   ]
  },
  {
   "cell_type": "code",
   "execution_count": 302,
   "metadata": {
    "ExecuteTime": {
     "end_time": "2018-11-25T06:31:26.503282Z",
     "start_time": "2018-11-25T06:31:26.470822Z"
    }
   },
   "outputs": [
    {
     "data": {
      "text/plain": [
       "22    -27.1\n",
       "23    -27.0\n",
       "24    -26.9\n",
       "25    -26.8\n",
       "26    -26.7\n",
       "27    -26.6\n",
       "28    -26.5\n",
       "29    -26.4\n",
       "30    -26.3\n",
       "31    -26.2\n",
       "32    -26.1\n",
       "33    -26.0\n",
       "34    -25.9\n",
       "35    -25.8\n",
       "36    -25.7\n",
       "37    -25.6\n",
       "38    -25.5\n",
       "39    -25.4\n",
       "40    -25.3\n",
       "41    -25.2\n",
       "42    -25.1\n",
       "43    -25.0\n",
       "44    -24.9\n",
       "45    -24.8\n",
       "46    -24.7\n",
       "47    -24.6\n",
       "48    -24.5\n",
       "49    -24.4\n",
       "50    -24.3\n",
       "51    -24.2\n",
       "       ... \n",
       "970    67.7\n",
       "971    67.8\n",
       "972    67.9\n",
       "973    68.0\n",
       "974    68.1\n",
       "975    68.2\n",
       "976    68.3\n",
       "977    68.4\n",
       "978    68.5\n",
       "979    68.6\n",
       "980    68.7\n",
       "981    68.8\n",
       "982    68.9\n",
       "983    69.0\n",
       "984    69.1\n",
       "985    69.2\n",
       "986    69.3\n",
       "987    69.4\n",
       "988    69.5\n",
       "989    69.6\n",
       "990    69.7\n",
       "991    69.8\n",
       "992    69.9\n",
       "993    70.0\n",
       "994    70.1\n",
       "995    70.2\n",
       "996    70.3\n",
       "997    70.4\n",
       "998    70.5\n",
       "999    70.6\n",
       "Name: time, Length: 978, dtype: float64"
      ]
     },
     "execution_count": 302,
     "metadata": {},
     "output_type": "execute_result"
    }
   ],
   "source": [
    "lcsr.time - lcsr[lcsr.flux == lcsr.flux.max()]['time'].values"
   ]
  },
  {
   "cell_type": "code",
   "execution_count": 303,
   "metadata": {
    "ExecuteTime": {
     "end_time": "2018-11-25T06:31:27.474243Z",
     "start_time": "2018-11-25T06:31:27.201409Z"
    }
   },
   "outputs": [
    {
     "data": {
      "text/plain": [
       "[<matplotlib.lines.Line2D at 0x1819cf8390>]"
      ]
     },
     "execution_count": 303,
     "metadata": {},
     "output_type": "execute_result"
    },
    {
     "data": {
      "image/png": "[encoded data removed]",
      "text/plain": [
       "<Figure size 432x288 with 1 Axes>"
      ]
     },
     "metadata": {},
     "output_type": "display_data"
    }
   ],
   "source": [
    "pl.plot(lcsg['time'].values, \n",
    "        2.5 * np.log10(lcsg['flux'].values))\n",
    "pl.plot(lcsr['time'].values, \n",
    "        2.5 * np.log10(lcsr['flux'].values))\n",
    "pl.plot(lcsr['time'].values, \n",
    "        2.5 * np.log10(lcsi['flux'].values))\n"
   ]
  },
  {
   "cell_type": "code",
   "execution_count": 306,
   "metadata": {
    "ExecuteTime": {
     "end_time": "2018-11-25T07:33:49.867433Z",
     "start_time": "2018-11-25T07:33:49.669299Z"
    }
   },
   "outputs": [
    {
     "data": {
      "text/plain": [
       "[<matplotlib.lines.Line2D at 0x1819e313c8>]"
      ]
     },
     "execution_count": 306,
     "metadata": {},
     "output_type": "execute_result"
    },
    {
     "data": {
      "image/png": "[encoded data removed]",
      "text/plain": [
       "<Figure size 432x288 with 1 Axes>"
      ]
     },
     "metadata": {},
     "output_type": "display_data"
    }
   ],
   "source": [
    "pl.plot(lcsg['time'].values, \n",
    "        lcsg['mag'].values)\n",
    "pl.plot(lcsr['time'].values, \n",
    "        lcsr['mag'].values)\n",
    "pl.plot(lcsr['time'].values, \n",
    "        lcsi['mag'].values)\n"
   ]
  },
  {
   "cell_type": "code",
   "execution_count": 307,
   "metadata": {
    "ExecuteTime": {
     "end_time": "2018-11-25T07:33:57.179602Z",
     "start_time": "2018-11-25T07:33:57.094558Z"
    }
   },
   "outputs": [],
   "source": [
    "lcsg.to_csv(\"snIag.csv\", index=False)\n",
    "lcsr.to_csv(\"snIar.csv\", index=False)\n",
    "lcsi.to_csv(\"snIai.csv\", index=False)\n"
   ]
  },
  {
   "cell_type": "code",
   "execution_count": null,
   "metadata": {},
   "outputs": [],
   "source": []
  }
 ],
 "metadata": {
  "kernelspec": {
   "display_name": "Python 3",
   "language": "python",
   "name": "python3"
  },
  "language_info": {
   "codemirror_mode": {
    "name": "ipython",
    "version": 3
   },
   "file_extension": ".py",
   "mimetype": "text/x-python",
   "name": "python",
   "nbconvert_exporter": "python",
   "pygments_lexer": "ipython3",
   "version": "3.6.3"
  },
  "toc": {
   "colors": {
    "hover_highlight": "#DAA520",
    "running_highlight": "#FF0000",
    "selected_highlight": "#FFD700"
   },
   "moveMenuLeft": true,
   "nav_menu": {
    "height": "13px",
    "width": "251px"
   },
   "navigate_menu": true,
   "number_sections": true,
   "sideBar": true,
   "threshold": 4,
   "toc_cell": false,
   "toc_section_display": "block",
   "toc_window_display": false
  }
 },
 "nbformat": 4,
 "nbformat_minor": 2
}
