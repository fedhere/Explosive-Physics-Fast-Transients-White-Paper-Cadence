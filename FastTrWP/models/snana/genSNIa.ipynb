{
 "cells": [
  {
   "cell_type": "code",
   "execution_count": 1,
   "metadata": {
    "ExecuteTime": {
     "end_time": "2019-03-07T18:30:16.679726Z",
     "start_time": "2019-03-07T18:30:12.875373Z"
    },
    "run_control": {
     "frozen": false,
     "read_only": false
    }
   },
   "outputs": [],
   "source": [
    "import sncosmo"
   ]
  },
  {
   "cell_type": "code",
   "execution_count": 2,
   "metadata": {
    "ExecuteTime": {
     "end_time": "2019-03-07T18:30:18.695637Z",
     "start_time": "2019-03-07T18:30:16.683227Z"
    },
    "run_control": {
     "frozen": false,
     "read_only": false
    }
   },
   "outputs": [
    {
     "name": "stdout",
     "output_type": "stream",
     "text": [
      "Populating the interactive namespace from numpy and matplotlib\n"
     ]
    }
   ],
   "source": [
    "import numpy as np\n",
    "import pandas as pd\n",
    "import sncosmo\n",
    "import pylab as pl\n",
    "from astropy.table import Table\n",
    "%pylab inline"
   ]
  },
  {
   "cell_type": "code",
   "execution_count": 3,
   "metadata": {
    "ExecuteTime": {
     "end_time": "2019-03-07T18:30:18.705630Z",
     "start_time": "2019-03-07T18:30:18.698680Z"
    },
    "run_control": {
     "frozen": false,
     "read_only": false
    }
   },
   "outputs": [],
   "source": [
    "t = np.arange(0,100,0.1)\n",
    "obsi = Table({'time': t,\n",
    "             'band': ['desi']*len(t),\n",
    "             'gain': [1.]*len(t),\n",
    "             'skynoise': [180.]*len(t),\n",
    "             'zp': [50.]*len(t),\n",
    "             'zpsys':['ab']*len(t)})"
   ]
  },
  {
   "cell_type": "code",
   "execution_count": 4,
   "metadata": {
    "ExecuteTime": {
     "end_time": "2019-03-07T18:30:18.717410Z",
     "start_time": "2019-03-07T18:30:18.709889Z"
    },
    "run_control": {
     "frozen": false,
     "read_only": false
    }
   },
   "outputs": [],
   "source": [
    "obsr = Table({'time': t,\n",
    "             'band': ['desr']*len(t),\n",
    "             'gain': [1.]*len(t),\n",
    "             'skynoise': [180.]*len(t),\n",
    "             'zp': [50.]*len(t),\n",
    "             'zpsys':['ab']*len(t)})"
   ]
  },
  {
   "cell_type": "code",
   "execution_count": 5,
   "metadata": {
    "ExecuteTime": {
     "end_time": "2019-03-07T18:30:18.742574Z",
     "start_time": "2019-03-07T18:30:18.721119Z"
    },
    "run_control": {
     "frozen": false,
     "read_only": false
    }
   },
   "outputs": [
    {
     "name": "stdout",
     "output_type": "stream",
     "text": [
      "        time        band gain skynoise  zp  zpsys\n",
      "------------------- ---- ---- -------- ---- -----\n",
      "                0.0 desg  1.0    180.0 50.0    ab\n",
      "                0.1 desg  1.0    180.0 50.0    ab\n",
      "                0.2 desg  1.0    180.0 50.0    ab\n",
      "0.30000000000000004 desg  1.0    180.0 50.0    ab\n",
      "                0.4 desg  1.0    180.0 50.0    ab\n",
      "                0.5 desg  1.0    180.0 50.0    ab\n",
      " 0.6000000000000001 desg  1.0    180.0 50.0    ab\n",
      " 0.7000000000000001 desg  1.0    180.0 50.0    ab\n",
      "                0.8 desg  1.0    180.0 50.0    ab\n",
      "                0.9 desg  1.0    180.0 50.0    ab\n",
      "                ...  ...  ...      ...  ...   ...\n",
      "               98.9 desg  1.0    180.0 50.0    ab\n",
      "               99.0 desg  1.0    180.0 50.0    ab\n",
      "  99.10000000000001 desg  1.0    180.0 50.0    ab\n",
      "               99.2 desg  1.0    180.0 50.0    ab\n",
      "  99.30000000000001 desg  1.0    180.0 50.0    ab\n",
      "               99.4 desg  1.0    180.0 50.0    ab\n",
      "               99.5 desg  1.0    180.0 50.0    ab\n",
      "  99.60000000000001 desg  1.0    180.0 50.0    ab\n",
      "               99.7 desg  1.0    180.0 50.0    ab\n",
      "  99.80000000000001 desg  1.0    180.0 50.0    ab\n",
      "               99.9 desg  1.0    180.0 50.0    ab\n",
      "Length = 1000 rows\n"
     ]
    }
   ],
   "source": [
    "obsg = Table({'time': t,\n",
    "             'band': ['desg']*len(t),\n",
    "             'gain': [1.]*len(t),\n",
    "             'skynoise': [180.]*len(t),\n",
    "             'zp': [50.]*len(t),\n",
    "             'zpsys':['ab']*len(t)})\n",
    "print (obsg)"
   ]
  },
  {
   "cell_type": "code",
   "execution_count": 23,
   "metadata": {
    "ExecuteTime": {
     "end_time": "2019-03-07T20:03:59.824755Z",
     "start_time": "2019-03-07T20:03:59.816274Z"
    },
    "run_control": {
     "frozen": false,
     "read_only": false
    }
   },
   "outputs": [],
   "source": [
    "model = sncosmo.Model(source='salt2')\n",
    "params = {'z': 0.4, \n",
    "          't0': 30.0, 'x1': 0.1, 'c': 0.}"
   ]
  },
  {
   "cell_type": "code",
   "execution_count": 24,
   "metadata": {
    "ExecuteTime": {
     "end_time": "2019-03-07T20:04:20.370783Z",
     "start_time": "2019-03-07T20:04:19.222454Z"
    }
   },
   "outputs": [
    {
     "ename": "AttributeError",
     "evalue": "module 'sncosmo' has no attribute 'get'",
     "output_type": "error",
     "traceback": [
      "\u001b[0;31m---------------------------------------------------------------------------\u001b[0m",
      "\u001b[0;31mAttributeError\u001b[0m                            Traceback (most recent call last)",
      "\u001b[0;32m<ipython-input-24-67df87d105c5>\u001b[0m in \u001b[0;36m<module>\u001b[0;34m\u001b[0m\n\u001b[0;32m----> 1\u001b[0;31m \u001b[0msncosmo\u001b[0m\u001b[0;34m.\u001b[0m\u001b[0mget\u001b[0m\u001b[0;34m(\u001b[0m\u001b[0;34m'x0'\u001b[0m\u001b[0;34m)\u001b[0m\u001b[0;34m\u001b[0m\u001b[0;34m\u001b[0m\u001b[0m\n\u001b[0m",
      "\u001b[0;31mAttributeError\u001b[0m: module 'sncosmo' has no attribute 'get'"
     ]
    }
   ],
   "source": [
    "sncosmo.get('x0')"
   ]
  },
  {
   "cell_type": "code",
   "execution_count": 7,
   "metadata": {
    "ExecuteTime": {
     "end_time": "2019-03-07T18:30:22.070568Z",
     "start_time": "2019-03-07T18:30:19.173438Z"
    },
    "run_control": {
     "frozen": false,
     "read_only": false
    }
   },
   "outputs": [],
   "source": [
    "lcsg = sncosmo.realize_lcs(obsg, model, [params])\n",
    "lcsr = sncosmo.realize_lcs(obsr, model, [params])\n",
    "lcsi = sncosmo.realize_lcs(obsi, model, [params])\n",
    "\n",
    "lcsg = lcsg[0].to_pandas()\n",
    "lcsg['flux'] = lcsg.flux.apply(lambda x: max(x, \n",
    "                            min(np.abs(lcsg.flux.values))))\n",
    "lcsr = lcsr[0].to_pandas()\n",
    "lcsr['flux'] = lcsr.flux.apply(lambda x: max(x, \n",
    "                            min(np.abs(lcsr.flux.values))))\n",
    "lcsi = lcsi[0].to_pandas()\n",
    "lcsi['flux'] = lcsi.flux.apply(lambda x: max(x, \n",
    "                            min(np.abs(lcsi.flux.values))))"
   ]
  },
  {
   "cell_type": "code",
   "execution_count": 8,
   "metadata": {
    "ExecuteTime": {
     "end_time": "2019-03-07T18:30:22.369103Z",
     "start_time": "2019-03-07T18:30:22.073600Z"
    },
    "run_control": {
     "frozen": false,
     "read_only": false
    }
   },
   "outputs": [
    {
     "data": {
      "text/plain": [
       "(     time  band          flux        fluxerr    zp zpsys\n",
       " 261  26.1  desg  4.537092e+10  213003.943611  50.0    ab,\n",
       "      time  band          flux        fluxerr    zp zpsys\n",
       " 293  29.3  desr  8.449355e+10  290677.932489  50.0    ab,\n",
       "      time  band          flux        fluxerr    zp zpsys\n",
       " 315  31.5  desi  8.247454e+10  287183.721986  50.0    ab)"
      ]
     },
     "execution_count": 8,
     "metadata": {},
     "output_type": "execute_result"
    }
   ],
   "source": [
    "lcsg[lcsg.flux == lcsg.flux.max()], \\\n",
    "lcsr[lcsr.flux == lcsr.flux.max()], \\\n",
    "lcsi[lcsi.flux == lcsi.flux.max()], "
   ]
  },
  {
   "cell_type": "code",
   "execution_count": 9,
   "metadata": {
    "ExecuteTime": {
     "end_time": "2019-03-07T18:30:24.746875Z",
     "start_time": "2019-03-07T18:30:22.372168Z"
    },
    "run_control": {
     "frozen": false,
     "read_only": false
    }
   },
   "outputs": [
    {
     "data": {
      "text/plain": [
       "<matplotlib.axes._subplots.AxesSubplot at 0x1815fdbc50>"
      ]
     },
     "execution_count": 9,
     "metadata": {},
     "output_type": "execute_result"
    },
    {
     "data": {
      "image/png": "[encoded data removed]",
      "text/plain": [
       "<Figure size 432x288 with 1 Axes>"
      ]
     },
     "metadata": {
      "needs_background": "light"
     },
     "output_type": "display_data"
    }
   ],
   "source": [
    "ax = lcsi.plot(x=\"time\", y=\"flux\", label='i')\n",
    "lcsr.plot(x=\"time\", y=\"flux\", ax=ax, label='r')\n",
    "lcsg.plot(x=\"time\", y=\"flux\", ax=ax, label='g')"
   ]
  },
  {
   "cell_type": "code",
   "execution_count": 10,
   "metadata": {
    "ExecuteTime": {
     "end_time": "2019-03-07T18:30:24.756113Z",
     "start_time": "2019-03-07T18:30:24.749775Z"
    },
    "run_control": {
     "frozen": false,
     "read_only": false
    }
   },
   "outputs": [],
   "source": [
    "r = -2.5 * np.log10(lcsr['flux'].values)\n",
    "g = -2.5 * np.log10(lcsg['flux'].values)\n",
    "i = -2.5 * np.log10(lcsi['flux'].values)\n",
    "t = lcsr['time'].values"
   ]
  },
  {
   "cell_type": "code",
   "execution_count": 11,
   "metadata": {
    "ExecuteTime": {
     "end_time": "2019-03-07T18:30:25.009167Z",
     "start_time": "2019-03-07T18:30:24.759329Z"
    },
    "run_control": {
     "frozen": false,
     "read_only": false
    }
   },
   "outputs": [
    {
     "data": {
      "text/plain": [
       "[<matplotlib.lines.Line2D at 0x181497c198>]"
      ]
     },
     "execution_count": 11,
     "metadata": {},
     "output_type": "execute_result"
    },
    {
     "data": {
      "image/png": "[encoded data removed]",
      "text/plain": [
       "<Figure size 432x288 with 1 Axes>"
      ]
     },
     "metadata": {
      "needs_background": "light"
     },
     "output_type": "display_data"
    }
   ],
   "source": [
    "pl.plot(t, g, label='g')"
   ]
  },
  {
   "cell_type": "code",
   "execution_count": 13,
   "metadata": {
    "ExecuteTime": {
     "end_time": "2019-03-07T18:30:34.256183Z",
     "start_time": "2019-03-07T18:30:33.962230Z"
    },
    "run_control": {
     "frozen": false,
     "read_only": false
    }
   },
   "outputs": [
    {
     "data": {
      "text/plain": [
       "(0, 10)"
      ]
     },
     "execution_count": 13,
     "metadata": {},
     "output_type": "execute_result"
    },
    {
     "data": {
      "image/png": "[encoded data removed]",
      "text/plain": [
       "<Figure size 432x288 with 1 Axes>"
      ]
     },
     "metadata": {
      "needs_background": "light"
     },
     "output_type": "display_data"
    }
   ],
   "source": [
    "pl.plot(lcsr['time'].values, \n",
    "        2.5 * np.log10(lcsg['flux'].values))\n",
    "pl.plot(lcsr['time'].values, \n",
    "        2.5 * np.log10(lcsr['flux'].values))\n",
    "pl.plot(lcsr['time'].values, \n",
    "        2.5 * np.log10(lcsi['flux'].values))\n",
    "pl.xlim(0,10)"
   ]
  },
  {
   "cell_type": "code",
   "execution_count": 14,
   "metadata": {
    "ExecuteTime": {
     "end_time": "2019-03-07T18:30:34.847100Z",
     "start_time": "2019-03-07T18:30:34.841115Z"
    },
    "run_control": {
     "frozen": false,
     "read_only": false
    }
   },
   "outputs": [],
   "source": [
    "lcsr = lcsr.iloc[22:]\n",
    "lcsi = lcsi.iloc[22:]\n",
    "lcsg = lcsg.iloc[22:]"
   ]
  },
  {
   "cell_type": "code",
   "execution_count": 15,
   "metadata": {
    "ExecuteTime": {
     "end_time": "2019-03-07T18:30:35.755856Z",
     "start_time": "2019-03-07T18:30:35.586283Z"
    },
    "run_control": {
     "frozen": false,
     "read_only": false
    }
   },
   "outputs": [],
   "source": [
    "lcsr['mag'] = -2.5 * np.log10(lcsr.flux)\n",
    "lcsr['mag'] -= lcsr['mag'].min()\n",
    "lcsr['time'] -= lcsg[lcsg.flux == lcsg.flux.max()]['time'].values\n",
    "\n",
    "lcsi['mag'] = -2.5 * np.log10(lcsi.flux)\n",
    "lcsi['mag'] -= lcsi['mag'].min()\n",
    "lcsi['time'] -= lcsg[lcsg.flux == lcsg.flux.max()]['time'].values\n",
    "\n",
    "lcsg['mag'] = -2.5 * np.log10(lcsg.flux)\n",
    "lcsg['mag'] -= lcsg['mag'].min()\n",
    "lcsg['time'] -= lcsg[lcsg.flux == lcsg.flux.max()]['time'].values\n",
    "\n"
   ]
  },
  {
   "cell_type": "code",
   "execution_count": 16,
   "metadata": {
    "ExecuteTime": {
     "end_time": "2019-03-07T18:30:36.291987Z",
     "start_time": "2019-03-07T18:30:36.272499Z"
    },
    "run_control": {
     "frozen": false,
     "read_only": false
    }
   },
   "outputs": [
    {
     "data": {
      "text/plain": [
       "22    -27.1\n",
       "23    -27.0\n",
       "24    -26.9\n",
       "25    -26.8\n",
       "26    -26.7\n",
       "27    -26.6\n",
       "28    -26.5\n",
       "29    -26.4\n",
       "30    -26.3\n",
       "31    -26.2\n",
       "32    -26.1\n",
       "33    -26.0\n",
       "34    -25.9\n",
       "35    -25.8\n",
       "36    -25.7\n",
       "37    -25.6\n",
       "38    -25.5\n",
       "39    -25.4\n",
       "40    -25.3\n",
       "41    -25.2\n",
       "42    -25.1\n",
       "43    -25.0\n",
       "44    -24.9\n",
       "45    -24.8\n",
       "46    -24.7\n",
       "47    -24.6\n",
       "48    -24.5\n",
       "49    -24.4\n",
       "50    -24.3\n",
       "51    -24.2\n",
       "       ... \n",
       "970    67.7\n",
       "971    67.8\n",
       "972    67.9\n",
       "973    68.0\n",
       "974    68.1\n",
       "975    68.2\n",
       "976    68.3\n",
       "977    68.4\n",
       "978    68.5\n",
       "979    68.6\n",
       "980    68.7\n",
       "981    68.8\n",
       "982    68.9\n",
       "983    69.0\n",
       "984    69.1\n",
       "985    69.2\n",
       "986    69.3\n",
       "987    69.4\n",
       "988    69.5\n",
       "989    69.6\n",
       "990    69.7\n",
       "991    69.8\n",
       "992    69.9\n",
       "993    70.0\n",
       "994    70.1\n",
       "995    70.2\n",
       "996    70.3\n",
       "997    70.4\n",
       "998    70.5\n",
       "999    70.6\n",
       "Name: time, Length: 978, dtype: float64"
      ]
     },
     "execution_count": 16,
     "metadata": {},
     "output_type": "execute_result"
    }
   ],
   "source": [
    "lcsr.time - lcsr[lcsr.flux == lcsr.flux.max()]['time'].values"
   ]
  },
  {
   "cell_type": "code",
   "execution_count": 17,
   "metadata": {
    "ExecuteTime": {
     "end_time": "2019-03-07T18:30:37.239525Z",
     "start_time": "2019-03-07T18:30:36.978233Z"
    },
    "run_control": {
     "frozen": false,
     "read_only": false
    }
   },
   "outputs": [
    {
     "data": {
      "text/plain": [
       "[<matplotlib.lines.Line2D at 0x1818743ba8>]"
      ]
     },
     "execution_count": 17,
     "metadata": {},
     "output_type": "execute_result"
    },
    {
     "data": {
      "image/png": "[encoded data removed]",
      "text/plain": [
       "<Figure size 432x288 with 1 Axes>"
      ]
     },
     "metadata": {
      "needs_background": "light"
     },
     "output_type": "display_data"
    }
   ],
   "source": [
    "pl.plot(lcsg['time'].values, \n",
    "        2.5 * np.log10(lcsg['flux'].values))\n",
    "pl.plot(lcsr['time'].values, \n",
    "        2.5 * np.log10(lcsr['flux'].values))\n",
    "pl.plot(lcsr['time'].values, \n",
    "        2.5 * np.log10(lcsi['flux'].values))\n"
   ]
  },
  {
   "cell_type": "code",
   "execution_count": 18,
   "metadata": {
    "ExecuteTime": {
     "end_time": "2019-03-07T18:30:38.883476Z",
     "start_time": "2019-03-07T18:30:38.498465Z"
    },
    "run_control": {
     "frozen": false,
     "read_only": false
    }
   },
   "outputs": [
    {
     "data": {
      "text/plain": [
       "[<matplotlib.lines.Line2D at 0x181872ae10>]"
      ]
     },
     "execution_count": 18,
     "metadata": {},
     "output_type": "execute_result"
    },
    {
     "data": {
      "image/png": "[encoded data removed]",
      "text/plain": [
       "<Figure size 432x288 with 1 Axes>"
      ]
     },
     "metadata": {
      "needs_background": "light"
     },
     "output_type": "display_data"
    }
   ],
   "source": [
    "pl.plot(lcsg['time'].values, \n",
    "        lcsg['mag'].values)\n",
    "pl.plot(lcsr['time'].values, \n",
    "        lcsr['mag'].values)\n",
    "pl.plot(lcsr['time'].values, \n",
    "        lcsi['mag'].values)\n"
   ]
  },
  {
   "cell_type": "code",
   "execution_count": 19,
   "metadata": {
    "ExecuteTime": {
     "end_time": "2019-03-07T18:30:42.264171Z",
     "start_time": "2019-03-07T18:30:42.206093Z"
    },
    "run_control": {
     "frozen": false,
     "read_only": false
    }
   },
   "outputs": [],
   "source": [
    "lcsg.to_csv(\"snIag2.csv\", index=False)\n",
    "lcsr.to_csv(\"snIar2.csv\", index=False)\n",
    "lcsi.to_csv(\"snIai2.csv\", index=False)\n"
   ]
  },
  {
   "cell_type": "code",
   "execution_count": 21,
   "metadata": {
    "ExecuteTime": {
     "end_time": "2019-03-07T18:31:05.560768Z",
     "start_time": "2019-03-07T18:31:05.511524Z"
    },
    "run_control": {
     "frozen": false,
     "read_only": false
    }
   },
   "outputs": [
    {
     "data": {
      "text/html": [
       "<div>\n",
       "<style scoped>\n",
       "    .dataframe tbody tr th:only-of-type {\n",
       "        vertical-align: middle;\n",
       "    }\n",
       "\n",
       "    .dataframe tbody tr th {\n",
       "        vertical-align: top;\n",
       "    }\n",
       "\n",
       "    .dataframe thead th {\n",
       "        text-align: right;\n",
       "    }\n",
       "</style>\n",
       "<table border=\"1\" class=\"dataframe\">\n",
       "  <thead>\n",
       "    <tr style=\"text-align: right;\">\n",
       "      <th></th>\n",
       "      <th>time</th>\n",
       "      <th>band</th>\n",
       "      <th>flux</th>\n",
       "      <th>fluxerr</th>\n",
       "      <th>zp</th>\n",
       "      <th>zpsys</th>\n",
       "      <th>mag</th>\n",
       "    </tr>\n",
       "  </thead>\n",
       "  <tbody>\n",
       "    <tr>\n",
       "      <th>22</th>\n",
       "      <td>-23.9</td>\n",
       "      <td>desg</td>\n",
       "      <td>2.697177e-01</td>\n",
       "      <td>1743.701332</td>\n",
       "      <td>50.0</td>\n",
       "      <td>ab</td>\n",
       "      <td>28.064670</td>\n",
       "    </tr>\n",
       "    <tr>\n",
       "      <th>23</th>\n",
       "      <td>-23.8</td>\n",
       "      <td>desg</td>\n",
       "      <td>2.697177e-01</td>\n",
       "      <td>2131.793026</td>\n",
       "      <td>50.0</td>\n",
       "      <td>ab</td>\n",
       "      <td>28.064670</td>\n",
       "    </tr>\n",
       "    <tr>\n",
       "      <th>24</th>\n",
       "      <td>-23.7</td>\n",
       "      <td>desg</td>\n",
       "      <td>2.697177e-01</td>\n",
       "      <td>2459.387866</td>\n",
       "      <td>50.0</td>\n",
       "      <td>ab</td>\n",
       "      <td>28.064670</td>\n",
       "    </tr>\n",
       "    <tr>\n",
       "      <th>25</th>\n",
       "      <td>-23.6</td>\n",
       "      <td>desg</td>\n",
       "      <td>2.697177e-01</td>\n",
       "      <td>2748.205932</td>\n",
       "      <td>50.0</td>\n",
       "      <td>ab</td>\n",
       "      <td>28.064670</td>\n",
       "    </tr>\n",
       "    <tr>\n",
       "      <th>26</th>\n",
       "      <td>-23.5</td>\n",
       "      <td>desg</td>\n",
       "      <td>2.697177e-01</td>\n",
       "      <td>3009.432340</td>\n",
       "      <td>50.0</td>\n",
       "      <td>ab</td>\n",
       "      <td>28.064670</td>\n",
       "    </tr>\n",
       "    <tr>\n",
       "      <th>27</th>\n",
       "      <td>-23.4</td>\n",
       "      <td>desg</td>\n",
       "      <td>2.697177e-01</td>\n",
       "      <td>3249.727708</td>\n",
       "      <td>50.0</td>\n",
       "      <td>ab</td>\n",
       "      <td>28.064670</td>\n",
       "    </tr>\n",
       "    <tr>\n",
       "      <th>28</th>\n",
       "      <td>-23.3</td>\n",
       "      <td>desg</td>\n",
       "      <td>2.697177e-01</td>\n",
       "      <td>3473.438836</td>\n",
       "      <td>50.0</td>\n",
       "      <td>ab</td>\n",
       "      <td>28.064670</td>\n",
       "    </tr>\n",
       "    <tr>\n",
       "      <th>29</th>\n",
       "      <td>-23.2</td>\n",
       "      <td>desg</td>\n",
       "      <td>2.697177e-01</td>\n",
       "      <td>3683.588538</td>\n",
       "      <td>50.0</td>\n",
       "      <td>ab</td>\n",
       "      <td>28.064670</td>\n",
       "    </tr>\n",
       "    <tr>\n",
       "      <th>30</th>\n",
       "      <td>-23.1</td>\n",
       "      <td>desg</td>\n",
       "      <td>2.697177e-01</td>\n",
       "      <td>3882.379642</td>\n",
       "      <td>50.0</td>\n",
       "      <td>ab</td>\n",
       "      <td>28.064670</td>\n",
       "    </tr>\n",
       "    <tr>\n",
       "      <th>31</th>\n",
       "      <td>-23.0</td>\n",
       "      <td>desg</td>\n",
       "      <td>2.697177e-01</td>\n",
       "      <td>4071.476250</td>\n",
       "      <td>50.0</td>\n",
       "      <td>ab</td>\n",
       "      <td>28.064670</td>\n",
       "    </tr>\n",
       "    <tr>\n",
       "      <th>32</th>\n",
       "      <td>-22.9</td>\n",
       "      <td>desg</td>\n",
       "      <td>2.697177e-01</td>\n",
       "      <td>4252.171918</td>\n",
       "      <td>50.0</td>\n",
       "      <td>ab</td>\n",
       "      <td>28.064670</td>\n",
       "    </tr>\n",
       "    <tr>\n",
       "      <th>33</th>\n",
       "      <td>-22.8</td>\n",
       "      <td>desg</td>\n",
       "      <td>2.697177e-01</td>\n",
       "      <td>4425.495813</td>\n",
       "      <td>50.0</td>\n",
       "      <td>ab</td>\n",
       "      <td>28.064670</td>\n",
       "    </tr>\n",
       "    <tr>\n",
       "      <th>34</th>\n",
       "      <td>-22.7</td>\n",
       "      <td>desg</td>\n",
       "      <td>2.697177e-01</td>\n",
       "      <td>4592.215078</td>\n",
       "      <td>50.0</td>\n",
       "      <td>ab</td>\n",
       "      <td>28.064670</td>\n",
       "    </tr>\n",
       "    <tr>\n",
       "      <th>35</th>\n",
       "      <td>-22.6</td>\n",
       "      <td>desg</td>\n",
       "      <td>2.697177e-01</td>\n",
       "      <td>4939.854080</td>\n",
       "      <td>50.0</td>\n",
       "      <td>ab</td>\n",
       "      <td>28.064670</td>\n",
       "    </tr>\n",
       "    <tr>\n",
       "      <th>36</th>\n",
       "      <td>-22.5</td>\n",
       "      <td>desg</td>\n",
       "      <td>2.697177e-01</td>\n",
       "      <td>5287.063501</td>\n",
       "      <td>50.0</td>\n",
       "      <td>ab</td>\n",
       "      <td>28.064670</td>\n",
       "    </tr>\n",
       "    <tr>\n",
       "      <th>37</th>\n",
       "      <td>-22.4</td>\n",
       "      <td>desg</td>\n",
       "      <td>2.697177e-01</td>\n",
       "      <td>5634.031337</td>\n",
       "      <td>50.0</td>\n",
       "      <td>ab</td>\n",
       "      <td>28.064670</td>\n",
       "    </tr>\n",
       "    <tr>\n",
       "      <th>38</th>\n",
       "      <td>-22.3</td>\n",
       "      <td>desg</td>\n",
       "      <td>2.697177e-01</td>\n",
       "      <td>5980.901910</td>\n",
       "      <td>50.0</td>\n",
       "      <td>ab</td>\n",
       "      <td>28.064670</td>\n",
       "    </tr>\n",
       "    <tr>\n",
       "      <th>39</th>\n",
       "      <td>-22.2</td>\n",
       "      <td>desg</td>\n",
       "      <td>2.697177e-01</td>\n",
       "      <td>6327.787887</td>\n",
       "      <td>50.0</td>\n",
       "      <td>ab</td>\n",
       "      <td>28.064670</td>\n",
       "    </tr>\n",
       "    <tr>\n",
       "      <th>40</th>\n",
       "      <td>-22.1</td>\n",
       "      <td>desg</td>\n",
       "      <td>2.697177e-01</td>\n",
       "      <td>6674.778509</td>\n",
       "      <td>50.0</td>\n",
       "      <td>ab</td>\n",
       "      <td>28.064670</td>\n",
       "    </tr>\n",
       "    <tr>\n",
       "      <th>41</th>\n",
       "      <td>-22.0</td>\n",
       "      <td>desg</td>\n",
       "      <td>2.697177e-01</td>\n",
       "      <td>7021.945377</td>\n",
       "      <td>50.0</td>\n",
       "      <td>ab</td>\n",
       "      <td>28.064670</td>\n",
       "    </tr>\n",
       "    <tr>\n",
       "      <th>42</th>\n",
       "      <td>-21.9</td>\n",
       "      <td>desg</td>\n",
       "      <td>2.697177e-01</td>\n",
       "      <td>7369.346587</td>\n",
       "      <td>50.0</td>\n",
       "      <td>ab</td>\n",
       "      <td>28.064670</td>\n",
       "    </tr>\n",
       "    <tr>\n",
       "      <th>43</th>\n",
       "      <td>-21.8</td>\n",
       "      <td>desg</td>\n",
       "      <td>2.697177e-01</td>\n",
       "      <td>7717.029760</td>\n",
       "      <td>50.0</td>\n",
       "      <td>ab</td>\n",
       "      <td>28.064670</td>\n",
       "    </tr>\n",
       "    <tr>\n",
       "      <th>44</th>\n",
       "      <td>-21.7</td>\n",
       "      <td>desg</td>\n",
       "      <td>2.697177e-01</td>\n",
       "      <td>8065.034273</td>\n",
       "      <td>50.0</td>\n",
       "      <td>ab</td>\n",
       "      <td>28.064670</td>\n",
       "    </tr>\n",
       "    <tr>\n",
       "      <th>45</th>\n",
       "      <td>-21.6</td>\n",
       "      <td>desg</td>\n",
       "      <td>2.697177e-01</td>\n",
       "      <td>8413.392959</td>\n",
       "      <td>50.0</td>\n",
       "      <td>ab</td>\n",
       "      <td>28.064670</td>\n",
       "    </tr>\n",
       "    <tr>\n",
       "      <th>46</th>\n",
       "      <td>-21.5</td>\n",
       "      <td>desg</td>\n",
       "      <td>2.697177e-01</td>\n",
       "      <td>8762.133386</td>\n",
       "      <td>50.0</td>\n",
       "      <td>ab</td>\n",
       "      <td>28.064670</td>\n",
       "    </tr>\n",
       "    <tr>\n",
       "      <th>47</th>\n",
       "      <td>-21.4</td>\n",
       "      <td>desg</td>\n",
       "      <td>2.697177e-01</td>\n",
       "      <td>9111.278857</td>\n",
       "      <td>50.0</td>\n",
       "      <td>ab</td>\n",
       "      <td>28.064670</td>\n",
       "    </tr>\n",
       "    <tr>\n",
       "      <th>48</th>\n",
       "      <td>-21.3</td>\n",
       "      <td>desg</td>\n",
       "      <td>2.697177e-01</td>\n",
       "      <td>9460.849184</td>\n",
       "      <td>50.0</td>\n",
       "      <td>ab</td>\n",
       "      <td>28.064670</td>\n",
       "    </tr>\n",
       "    <tr>\n",
       "      <th>49</th>\n",
       "      <td>-21.2</td>\n",
       "      <td>desg</td>\n",
       "      <td>2.697177e-01</td>\n",
       "      <td>9859.733854</td>\n",
       "      <td>50.0</td>\n",
       "      <td>ab</td>\n",
       "      <td>28.064670</td>\n",
       "    </tr>\n",
       "    <tr>\n",
       "      <th>50</th>\n",
       "      <td>-21.1</td>\n",
       "      <td>desg</td>\n",
       "      <td>2.697177e-01</td>\n",
       "      <td>10334.431471</td>\n",
       "      <td>50.0</td>\n",
       "      <td>ab</td>\n",
       "      <td>28.064670</td>\n",
       "    </tr>\n",
       "    <tr>\n",
       "      <th>51</th>\n",
       "      <td>-21.0</td>\n",
       "      <td>desg</td>\n",
       "      <td>2.697177e-01</td>\n",
       "      <td>10854.534587</td>\n",
       "      <td>50.0</td>\n",
       "      <td>ab</td>\n",
       "      <td>28.064670</td>\n",
       "    </tr>\n",
       "    <tr>\n",
       "      <th>...</th>\n",
       "      <td>...</td>\n",
       "      <td>...</td>\n",
       "      <td>...</td>\n",
       "      <td>...</td>\n",
       "      <td>...</td>\n",
       "      <td>...</td>\n",
       "      <td>...</td>\n",
       "    </tr>\n",
       "    <tr>\n",
       "      <th>970</th>\n",
       "      <td>70.9</td>\n",
       "      <td>desg</td>\n",
       "      <td>1.235712e+09</td>\n",
       "      <td>35153.577427</td>\n",
       "      <td>50.0</td>\n",
       "      <td>ab</td>\n",
       "      <td>3.912151</td>\n",
       "    </tr>\n",
       "    <tr>\n",
       "      <th>971</th>\n",
       "      <td>71.0</td>\n",
       "      <td>desg</td>\n",
       "      <td>1.231061e+09</td>\n",
       "      <td>35087.267737</td>\n",
       "      <td>50.0</td>\n",
       "      <td>ab</td>\n",
       "      <td>3.916245</td>\n",
       "    </tr>\n",
       "    <tr>\n",
       "      <th>972</th>\n",
       "      <td>71.1</td>\n",
       "      <td>desg</td>\n",
       "      <td>1.226362e+09</td>\n",
       "      <td>35021.008260</td>\n",
       "      <td>50.0</td>\n",
       "      <td>ab</td>\n",
       "      <td>3.920397</td>\n",
       "    </tr>\n",
       "    <tr>\n",
       "      <th>973</th>\n",
       "      <td>71.2</td>\n",
       "      <td>desg</td>\n",
       "      <td>1.221794e+09</td>\n",
       "      <td>34954.760585</td>\n",
       "      <td>50.0</td>\n",
       "      <td>ab</td>\n",
       "      <td>3.924449</td>\n",
       "    </tr>\n",
       "    <tr>\n",
       "      <th>974</th>\n",
       "      <td>71.3</td>\n",
       "      <td>desg</td>\n",
       "      <td>1.217211e+09</td>\n",
       "      <td>34888.485746</td>\n",
       "      <td>50.0</td>\n",
       "      <td>ab</td>\n",
       "      <td>3.928530</td>\n",
       "    </tr>\n",
       "    <tr>\n",
       "      <th>975</th>\n",
       "      <td>71.4</td>\n",
       "      <td>desg</td>\n",
       "      <td>1.212629e+09</td>\n",
       "      <td>34822.194025</td>\n",
       "      <td>50.0</td>\n",
       "      <td>ab</td>\n",
       "      <td>3.932624</td>\n",
       "    </tr>\n",
       "    <tr>\n",
       "      <th>976</th>\n",
       "      <td>71.5</td>\n",
       "      <td>desg</td>\n",
       "      <td>1.207978e+09</td>\n",
       "      <td>34755.895780</td>\n",
       "      <td>50.0</td>\n",
       "      <td>ab</td>\n",
       "      <td>3.936796</td>\n",
       "    </tr>\n",
       "    <tr>\n",
       "      <th>977</th>\n",
       "      <td>71.6</td>\n",
       "      <td>desg</td>\n",
       "      <td>1.203344e+09</td>\n",
       "      <td>34689.601448</td>\n",
       "      <td>50.0</td>\n",
       "      <td>ab</td>\n",
       "      <td>3.940970</td>\n",
       "    </tr>\n",
       "    <tr>\n",
       "      <th>978</th>\n",
       "      <td>71.7</td>\n",
       "      <td>desg</td>\n",
       "      <td>1.198719e+09</td>\n",
       "      <td>34623.321547</td>\n",
       "      <td>50.0</td>\n",
       "      <td>ab</td>\n",
       "      <td>3.945150</td>\n",
       "    </tr>\n",
       "    <tr>\n",
       "      <th>979</th>\n",
       "      <td>71.8</td>\n",
       "      <td>desg</td>\n",
       "      <td>1.194141e+09</td>\n",
       "      <td>34557.066676</td>\n",
       "      <td>50.0</td>\n",
       "      <td>ab</td>\n",
       "      <td>3.949305</td>\n",
       "    </tr>\n",
       "    <tr>\n",
       "      <th>980</th>\n",
       "      <td>71.9</td>\n",
       "      <td>desg</td>\n",
       "      <td>1.189671e+09</td>\n",
       "      <td>34490.847514</td>\n",
       "      <td>50.0</td>\n",
       "      <td>ab</td>\n",
       "      <td>3.953377</td>\n",
       "    </tr>\n",
       "    <tr>\n",
       "      <th>981</th>\n",
       "      <td>72.0</td>\n",
       "      <td>desg</td>\n",
       "      <td>1.185024e+09</td>\n",
       "      <td>34424.674822</td>\n",
       "      <td>50.0</td>\n",
       "      <td>ab</td>\n",
       "      <td>3.957626</td>\n",
       "    </tr>\n",
       "    <tr>\n",
       "      <th>982</th>\n",
       "      <td>72.1</td>\n",
       "      <td>desg</td>\n",
       "      <td>1.180428e+09</td>\n",
       "      <td>34358.559446</td>\n",
       "      <td>50.0</td>\n",
       "      <td>ab</td>\n",
       "      <td>3.961846</td>\n",
       "    </tr>\n",
       "    <tr>\n",
       "      <th>983</th>\n",
       "      <td>72.2</td>\n",
       "      <td>desg</td>\n",
       "      <td>1.175907e+09</td>\n",
       "      <td>34292.512313</td>\n",
       "      <td>50.0</td>\n",
       "      <td>ab</td>\n",
       "      <td>3.966012</td>\n",
       "    </tr>\n",
       "    <tr>\n",
       "      <th>984</th>\n",
       "      <td>72.3</td>\n",
       "      <td>desg</td>\n",
       "      <td>1.171468e+09</td>\n",
       "      <td>34226.544435</td>\n",
       "      <td>50.0</td>\n",
       "      <td>ab</td>\n",
       "      <td>3.970118</td>\n",
       "    </tr>\n",
       "    <tr>\n",
       "      <th>985</th>\n",
       "      <td>72.4</td>\n",
       "      <td>desg</td>\n",
       "      <td>1.166943e+09</td>\n",
       "      <td>34160.666909</td>\n",
       "      <td>50.0</td>\n",
       "      <td>ab</td>\n",
       "      <td>3.974320</td>\n",
       "    </tr>\n",
       "    <tr>\n",
       "      <th>986</th>\n",
       "      <td>72.5</td>\n",
       "      <td>desg</td>\n",
       "      <td>1.162487e+09</td>\n",
       "      <td>34096.473298</td>\n",
       "      <td>50.0</td>\n",
       "      <td>ab</td>\n",
       "      <td>3.978474</td>\n",
       "    </tr>\n",
       "    <tr>\n",
       "      <th>987</th>\n",
       "      <td>72.6</td>\n",
       "      <td>desg</td>\n",
       "      <td>1.158185e+09</td>\n",
       "      <td>34032.040365</td>\n",
       "      <td>50.0</td>\n",
       "      <td>ab</td>\n",
       "      <td>3.982499</td>\n",
       "    </tr>\n",
       "    <tr>\n",
       "      <th>988</th>\n",
       "      <td>72.7</td>\n",
       "      <td>desg</td>\n",
       "      <td>1.153798e+09</td>\n",
       "      <td>33967.485209</td>\n",
       "      <td>50.0</td>\n",
       "      <td>ab</td>\n",
       "      <td>3.986620</td>\n",
       "    </tr>\n",
       "    <tr>\n",
       "      <th>989</th>\n",
       "      <td>72.8</td>\n",
       "      <td>desg</td>\n",
       "      <td>1.149333e+09</td>\n",
       "      <td>33902.807132</td>\n",
       "      <td>50.0</td>\n",
       "      <td>ab</td>\n",
       "      <td>3.990830</td>\n",
       "    </tr>\n",
       "    <tr>\n",
       "      <th>990</th>\n",
       "      <td>72.9</td>\n",
       "      <td>desg</td>\n",
       "      <td>1.145021e+09</td>\n",
       "      <td>33838.005430</td>\n",
       "      <td>50.0</td>\n",
       "      <td>ab</td>\n",
       "      <td>3.994911</td>\n",
       "    </tr>\n",
       "    <tr>\n",
       "      <th>991</th>\n",
       "      <td>73.0</td>\n",
       "      <td>desg</td>\n",
       "      <td>1.140631e+09</td>\n",
       "      <td>33773.079390</td>\n",
       "      <td>50.0</td>\n",
       "      <td>ab</td>\n",
       "      <td>3.999081</td>\n",
       "    </tr>\n",
       "    <tr>\n",
       "      <th>992</th>\n",
       "      <td>73.1</td>\n",
       "      <td>desg</td>\n",
       "      <td>1.136195e+09</td>\n",
       "      <td>33708.028295</td>\n",
       "      <td>50.0</td>\n",
       "      <td>ab</td>\n",
       "      <td>4.003311</td>\n",
       "    </tr>\n",
       "    <tr>\n",
       "      <th>993</th>\n",
       "      <td>73.2</td>\n",
       "      <td>desg</td>\n",
       "      <td>1.131838e+09</td>\n",
       "      <td>33642.851418</td>\n",
       "      <td>50.0</td>\n",
       "      <td>ab</td>\n",
       "      <td>4.007483</td>\n",
       "    </tr>\n",
       "    <tr>\n",
       "      <th>994</th>\n",
       "      <td>73.3</td>\n",
       "      <td>desg</td>\n",
       "      <td>1.127434e+09</td>\n",
       "      <td>33577.548028</td>\n",
       "      <td>50.0</td>\n",
       "      <td>ab</td>\n",
       "      <td>4.011716</td>\n",
       "    </tr>\n",
       "    <tr>\n",
       "      <th>995</th>\n",
       "      <td>73.4</td>\n",
       "      <td>desg</td>\n",
       "      <td>1.122983e+09</td>\n",
       "      <td>33512.117385</td>\n",
       "      <td>50.0</td>\n",
       "      <td>ab</td>\n",
       "      <td>4.016011</td>\n",
       "    </tr>\n",
       "    <tr>\n",
       "      <th>996</th>\n",
       "      <td>73.5</td>\n",
       "      <td>desg</td>\n",
       "      <td>1.118617e+09</td>\n",
       "      <td>33446.558741</td>\n",
       "      <td>50.0</td>\n",
       "      <td>ab</td>\n",
       "      <td>4.020240</td>\n",
       "    </tr>\n",
       "    <tr>\n",
       "      <th>997</th>\n",
       "      <td>73.6</td>\n",
       "      <td>desg</td>\n",
       "      <td>1.114250e+09</td>\n",
       "      <td>33380.871344</td>\n",
       "      <td>50.0</td>\n",
       "      <td>ab</td>\n",
       "      <td>4.024488</td>\n",
       "    </tr>\n",
       "    <tr>\n",
       "      <th>998</th>\n",
       "      <td>73.7</td>\n",
       "      <td>desg</td>\n",
       "      <td>1.109847e+09</td>\n",
       "      <td>33315.054430</td>\n",
       "      <td>50.0</td>\n",
       "      <td>ab</td>\n",
       "      <td>4.028786</td>\n",
       "    </tr>\n",
       "    <tr>\n",
       "      <th>999</th>\n",
       "      <td>73.8</td>\n",
       "      <td>desg</td>\n",
       "      <td>1.105518e+09</td>\n",
       "      <td>33249.107232</td>\n",
       "      <td>50.0</td>\n",
       "      <td>ab</td>\n",
       "      <td>4.033030</td>\n",
       "    </tr>\n",
       "  </tbody>\n",
       "</table>\n",
       "<p>978 rows × 7 columns</p>\n",
       "</div>"
      ],
      "text/plain": [
       "     time  band          flux       fluxerr    zp zpsys        mag\n",
       "22  -23.9  desg  2.697177e-01   1743.701332  50.0    ab  28.064670\n",
       "23  -23.8  desg  2.697177e-01   2131.793026  50.0    ab  28.064670\n",
       "24  -23.7  desg  2.697177e-01   2459.387866  50.0    ab  28.064670\n",
       "25  -23.6  desg  2.697177e-01   2748.205932  50.0    ab  28.064670\n",
       "26  -23.5  desg  2.697177e-01   3009.432340  50.0    ab  28.064670\n",
       "27  -23.4  desg  2.697177e-01   3249.727708  50.0    ab  28.064670\n",
       "28  -23.3  desg  2.697177e-01   3473.438836  50.0    ab  28.064670\n",
       "29  -23.2  desg  2.697177e-01   3683.588538  50.0    ab  28.064670\n",
       "30  -23.1  desg  2.697177e-01   3882.379642  50.0    ab  28.064670\n",
       "31  -23.0  desg  2.697177e-01   4071.476250  50.0    ab  28.064670\n",
       "32  -22.9  desg  2.697177e-01   4252.171918  50.0    ab  28.064670\n",
       "33  -22.8  desg  2.697177e-01   4425.495813  50.0    ab  28.064670\n",
       "34  -22.7  desg  2.697177e-01   4592.215078  50.0    ab  28.064670\n",
       "35  -22.6  desg  2.697177e-01   4939.854080  50.0    ab  28.064670\n",
       "36  -22.5  desg  2.697177e-01   5287.063501  50.0    ab  28.064670\n",
       "37  -22.4  desg  2.697177e-01   5634.031337  50.0    ab  28.064670\n",
       "38  -22.3  desg  2.697177e-01   5980.901910  50.0    ab  28.064670\n",
       "39  -22.2  desg  2.697177e-01   6327.787887  50.0    ab  28.064670\n",
       "40  -22.1  desg  2.697177e-01   6674.778509  50.0    ab  28.064670\n",
       "41  -22.0  desg  2.697177e-01   7021.945377  50.0    ab  28.064670\n",
       "42  -21.9  desg  2.697177e-01   7369.346587  50.0    ab  28.064670\n",
       "43  -21.8  desg  2.697177e-01   7717.029760  50.0    ab  28.064670\n",
       "44  -21.7  desg  2.697177e-01   8065.034273  50.0    ab  28.064670\n",
       "45  -21.6  desg  2.697177e-01   8413.392959  50.0    ab  28.064670\n",
       "46  -21.5  desg  2.697177e-01   8762.133386  50.0    ab  28.064670\n",
       "47  -21.4  desg  2.697177e-01   9111.278857  50.0    ab  28.064670\n",
       "48  -21.3  desg  2.697177e-01   9460.849184  50.0    ab  28.064670\n",
       "49  -21.2  desg  2.697177e-01   9859.733854  50.0    ab  28.064670\n",
       "50  -21.1  desg  2.697177e-01  10334.431471  50.0    ab  28.064670\n",
       "51  -21.0  desg  2.697177e-01  10854.534587  50.0    ab  28.064670\n",
       "..    ...   ...           ...           ...   ...   ...        ...\n",
       "970  70.9  desg  1.235712e+09  35153.577427  50.0    ab   3.912151\n",
       "971  71.0  desg  1.231061e+09  35087.267737  50.0    ab   3.916245\n",
       "972  71.1  desg  1.226362e+09  35021.008260  50.0    ab   3.920397\n",
       "973  71.2  desg  1.221794e+09  34954.760585  50.0    ab   3.924449\n",
       "974  71.3  desg  1.217211e+09  34888.485746  50.0    ab   3.928530\n",
       "975  71.4  desg  1.212629e+09  34822.194025  50.0    ab   3.932624\n",
       "976  71.5  desg  1.207978e+09  34755.895780  50.0    ab   3.936796\n",
       "977  71.6  desg  1.203344e+09  34689.601448  50.0    ab   3.940970\n",
       "978  71.7  desg  1.198719e+09  34623.321547  50.0    ab   3.945150\n",
       "979  71.8  desg  1.194141e+09  34557.066676  50.0    ab   3.949305\n",
       "980  71.9  desg  1.189671e+09  34490.847514  50.0    ab   3.953377\n",
       "981  72.0  desg  1.185024e+09  34424.674822  50.0    ab   3.957626\n",
       "982  72.1  desg  1.180428e+09  34358.559446  50.0    ab   3.961846\n",
       "983  72.2  desg  1.175907e+09  34292.512313  50.0    ab   3.966012\n",
       "984  72.3  desg  1.171468e+09  34226.544435  50.0    ab   3.970118\n",
       "985  72.4  desg  1.166943e+09  34160.666909  50.0    ab   3.974320\n",
       "986  72.5  desg  1.162487e+09  34096.473298  50.0    ab   3.978474\n",
       "987  72.6  desg  1.158185e+09  34032.040365  50.0    ab   3.982499\n",
       "988  72.7  desg  1.153798e+09  33967.485209  50.0    ab   3.986620\n",
       "989  72.8  desg  1.149333e+09  33902.807132  50.0    ab   3.990830\n",
       "990  72.9  desg  1.145021e+09  33838.005430  50.0    ab   3.994911\n",
       "991  73.0  desg  1.140631e+09  33773.079390  50.0    ab   3.999081\n",
       "992  73.1  desg  1.136195e+09  33708.028295  50.0    ab   4.003311\n",
       "993  73.2  desg  1.131838e+09  33642.851418  50.0    ab   4.007483\n",
       "994  73.3  desg  1.127434e+09  33577.548028  50.0    ab   4.011716\n",
       "995  73.4  desg  1.122983e+09  33512.117385  50.0    ab   4.016011\n",
       "996  73.5  desg  1.118617e+09  33446.558741  50.0    ab   4.020240\n",
       "997  73.6  desg  1.114250e+09  33380.871344  50.0    ab   4.024488\n",
       "998  73.7  desg  1.109847e+09  33315.054430  50.0    ab   4.028786\n",
       "999  73.8  desg  1.105518e+09  33249.107232  50.0    ab   4.033030\n",
       "\n",
       "[978 rows x 7 columns]"
      ]
     },
     "execution_count": 21,
     "metadata": {},
     "output_type": "execute_result"
    }
   ],
   "source": [
    "lcsg\n"
   ]
  },
  {
   "cell_type": "code",
   "execution_count": null,
   "metadata": {},
   "outputs": [],
   "source": []
  }
 ],
 "metadata": {
  "kernelspec": {
   "display_name": "Python 3",
   "language": "python",
   "name": "python3"
  },
  "language_info": {
   "codemirror_mode": {
    "name": "ipython",
    "version": 3
   },
   "file_extension": ".py",
   "mimetype": "text/x-python",
   "name": "python",
   "nbconvert_exporter": "python",
   "pygments_lexer": "ipython3",
   "version": "3.6.7"
  },
  "toc": {
   "colors": {
    "hover_highlight": "#DAA520",
    "running_highlight": "#FF0000",
    "selected_highlight": "#FFD700"
   },
   "moveMenuLeft": true,
   "nav_menu": {
    "height": "13px",
    "width": "251px"
   },
   "navigate_menu": true,
   "number_sections": true,
   "sideBar": true,
   "threshold": 4,
   "toc_cell": false,
   "toc_section_display": "block",
   "toc_window_display": false
  }
 },
 "nbformat": 4,
 "nbformat_minor": 2
}
