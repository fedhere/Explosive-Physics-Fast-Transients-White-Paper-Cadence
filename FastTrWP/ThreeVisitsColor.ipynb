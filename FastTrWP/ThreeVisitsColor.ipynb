{
 "cells": [
  {
   "cell_type": "code",
   "execution_count": 2,
   "metadata": {},
   "outputs": [],
   "source": [
    "from __future__ import print_function\n",
    "import numpy as np \n",
    "import matplotlib.pyplot as plt\n",
    "%matplotlib inline\n",
    "import numpy as np\n",
    "\n",
    "\n",
    "import lsst.sims.maf.db as db\n",
    "import lsst.sims.maf.metrics as metrics\n",
    "import lsst.sims.maf.slicers as slicers\n",
    "import lsst.sims.maf.metricBundles as metricBundles"
   ]
  },
  {
   "cell_type": "markdown",
   "metadata": {},
   "source": [
    "## Three visits in 2 filters with specified filter pair and time gap\n"
   ]
  },
  {
   "cell_type": "markdown",
   "metadata": {},
   "source": [
    "for Fast transients identification"
   ]
  },
  {
   "cell_type": "code",
   "execution_count": 3,
   "metadata": {},
   "outputs": [],
   "source": [
    "from lsst.sims.maf.metrics import BaseMetric\n"
   ]
  },
  {
   "cell_type": "code",
   "execution_count": 4,
   "metadata": {},
   "outputs": [],
   "source": [
    "class threeVisitsWColorMetric(BaseMetric):\n",
    "        \n",
    "\n",
    "    def __init__(self, filterCol='filter', nightCol='night', \n",
    "                 mjdCol='observationStartMJD', dt1=0.5/24, dt2=1.5/24,\n",
    "                 filters='y'+'g', nVisitsMin=3, **kwargs):\n",
    "        '''\n",
    "        Calculates fields for which there are 3 visits in 2 filters with color within dt1 \n",
    "        and shape at least separated by dt2\n",
    "        \n",
    "        returns 1 if the conditionas are all verified for the data slice, -666 otherwise\n",
    "        default: dt1 30 min dt2 1.5 hours\n",
    "        default filters y+g (cause there are a few)'''\n",
    "        \n",
    "        # Pass the same bins to the plotter.                                                      \n",
    "        self.mjdCol = mjdCol\n",
    "        self.nightCol = nightCol\n",
    "        self.filterCol = filterCol        \n",
    "        self.nVisitsMin = nVisitsMin\n",
    "        self.dt1 = dt1\n",
    "        self.dt2 = dt2\n",
    "        self.filters = (filters[0], filters[1])\n",
    "        super(threeVisitsWColorMetric, \n",
    "              self).__init__(col=[self.mjdCol, \n",
    "                                self.nightCol, \n",
    "                                self.filterCol], \n",
    "                                metricDtype='int', \n",
    "                                units='Fraction', \n",
    "                                **kwargs)\n",
    "\n",
    "    def run(self, dataSlice, slicePoint=None):\n",
    "        mins = [99, 99]\n",
    "        maxs = [-99, -99]\n",
    "        \n",
    "        #count the observations within a night for each slice\n",
    "        n, counts = np.unique(dataSlice[self.nightCol], return_counts=True)\n",
    "        #print(dataSlice)\n",
    "        minobs = n[counts >= 3]\n",
    "        #print(n, counts, minobs)\n",
    "        dt1, dt2, filtshape = -1, -1, 'x'\n",
    "        \n",
    "        #iterate over nights with more than 3 observations\n",
    "        for i,night in enumerate(minobs):\n",
    "            #this is a night with >=3 observations\n",
    "            good = dataSlice[self.nightCol] == night\n",
    "            \n",
    "            #check if it has 2 filters at least\n",
    "            n, count = np.unique(dataSlice[self.filterCol][good], return_counts=True)\n",
    "            if len(n) > 1:\n",
    "                #print(n, count)\n",
    "                #obs with filter 1\n",
    "                f0 = dataSlice[self.filterCol][good] == self.filters[0]\n",
    "                #obs with filter 2\n",
    "                f1 = dataSlice[self.filterCol][good] == self.filters[1]\n",
    "                \n",
    "                #filter 1 is shape\n",
    "                if f0.sum() > 1 and f1.sum() == 1:\n",
    "                    #max gap with same filter\n",
    "                    dt2 = np.max(np.abs(np.diff(dataSlice[self.mjdCol][good][f0])))\n",
    "                    #min between 2 colors\n",
    "                    dt1 = np.min(\n",
    "                        [np.abs(t1-t2) for t1 in dataSlice[self.mjdCol][good][f0] \n",
    "                         for t2 in dataSlice[self.mjdCol][good][f1]])\n",
    "                    filtshape = self.filters[0]\n",
    "                    #print (dt1, dt2, filtshape)\n",
    "                    \n",
    "                #filter 2 is shape\n",
    "                elif f0.sum() == 1 and f1.sum() > 1:\n",
    "                    #max gap with same filter\n",
    "                    dt2 = np.max(np.abs(np.diff(dataSlice[self.mjdCol][good][f0])))\n",
    "                    #min between 2 colors\n",
    "                    dt1 = np.min(\n",
    "                        [np.abs(t1-t2) for t1 in dataSlice[self.mjdCol][good][f0] \n",
    "                         for t2 in dataSlice[self.mjdCol][good][f1]])\n",
    "                    filtshape = self.filters[1]\n",
    "                    #print (dt1, dt2, filtshape)\n",
    "\n",
    "                #either filter could be shape\n",
    "                elif f0.sum() > 1 and f1.sum() > 1:\n",
    "                    #max gap with same filter\n",
    "                    dt2_0 = np.max(np.abs(np.diff(dataSlice[self.mjdCol][good][f0])))\n",
    "                    dt2_1 = np.max(np.abs(np.diff(dataSlice[self.mjdCol][good][f1])))\n",
    "                    #print(max(dt2_0, dt2_1))\n",
    "                    dt2 = max(dt2_0, dt2_1)\n",
    "                    filtshape = np.array([self.filters[0], \n",
    "                                          self.filters[1]])[np.array([dt2_0, \n",
    "                                                                      dt2_1]) == dt2]\n",
    "                    #print(filtshape)\n",
    "                    #min gap between 2 filters gives color\n",
    "                    dt1 = np.min(\n",
    "                        [np.abs(t1-t2) for t1 in dataSlice[self.mjdCol][good][f0] \n",
    "                         for t2 in dataSlice[self.mjdCol][good][f1]])\n",
    "            else:\n",
    "                # no 3 obs night\n",
    "                metricval = 0.\n",
    "                return metricval\n",
    "        #see if obs verify  gap min and max conditions\n",
    "        if dt1 >  -1 and dt1 <= self.dt1 and dt2 > -1 and dt2 >= self.dt2:\n",
    "            metricval = 1.0\n",
    "        else :\n",
    "            metricval = 0.\n",
    "        return metricval\n",
    "    \n",
    "    def reducep(self, metricval):\n",
    "        result = np.mean(metricval)\n",
    "        return result\n"
   ]
  },
  {
   "cell_type": "code",
   "execution_count": null,
   "metadata": {},
   "outputs": [
    {
     "name": "stdout",
     "output_type": "stream",
     "text": [
      "Healpix slicer using NSIDE=8, approximate resolution 439.742261 arcminutes\n",
      "Querying database SummaryAllProps with no constraint for columns ['fieldRA', 'filter', 'fieldDec', 'night', 'observationStartMJD'].\n"
     ]
    }
   ],
   "source": [
    "metric = threeVisitsWColorMetric8()\n",
    "slicer = slicers.HealpixSlicer(nside=8)\n",
    "sqlconstraint = ''\n",
    "myBundle = metricBundles.MetricBundle(metric, slicer, sqlconstraint)\n",
    "\n",
    "opsdb = db.OpsimDatabase('baseline2018a.db')\n",
    "myBundle.setPlotDict({'colorMin': 0.0, 'colorMax': 1.8})\n",
    "bgroup = metricBundles.MetricBundleGroup(\n",
    "    {0: myBundle}, opsdb, outDir='newmetric_test', resultsDb=None)\n",
    "bgroup.runAll()\n",
    "bgroup.plotAll(closefigs=False)\n"
   ]
  },
  {
   "cell_type": "code",
   "execution_count": null,
   "metadata": {},
   "outputs": [],
   "source": []
  }
 ],
 "metadata": {
  "kernelspec": {
   "display_name": "Python 3",
   "language": "python",
   "name": "python3"
  },
  "language_info": {
   "codemirror_mode": {
    "name": "ipython",
    "version": 3
   },
   "file_extension": ".py",
   "mimetype": "text/x-python",
   "name": "python",
   "nbconvert_exporter": "python",
   "pygments_lexer": "ipython3",
   "version": "3.6.2"
  }
 },
 "nbformat": 4,
 "nbformat_minor": 2
}
